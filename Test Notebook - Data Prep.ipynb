{
 "cells": [
  {
   "cell_type": "code",
   "execution_count": 195,
   "id": "528971ba",
   "metadata": {},
   "outputs": [
    {
     "name": "stderr",
     "output_type": "stream",
     "text": [
      "[nltk_data] Downloading package punkt to /Users/daniel/nltk_data...\n",
      "[nltk_data]   Package punkt is already up-to-date!\n"
     ]
    }
   ],
   "source": [
    "import nltk\n",
    "nltk.download('punkt')\n",
    "from nltk import word_tokenize\n",
    "import pandas as pd"
   ]
  },
  {
   "cell_type": "code",
   "execution_count": 196,
   "id": "9c3cb696",
   "metadata": {},
   "outputs": [],
   "source": [
    "# reading in the data\n",
    "train_data = pd.read_csv('WikiQA-train.tsv', sep='\\t')\n",
    "test_data = pd.read_csv('WikiQA-test.tsv', sep='\\t')"
   ]
  },
  {
   "cell_type": "markdown",
   "id": "1fad5982",
   "metadata": {},
   "source": [
    "Extract the unique questions from the train and test data frames, including the documentID and the DocumentTitle"
   ]
  },
  {
   "cell_type": "code",
   "execution_count": 268,
   "id": "034c4358",
   "metadata": {},
   "outputs": [],
   "source": [
    "def get_questions_documenttag(data):\n",
    "    qd = data[['Question', 'QuestionID', 'DocumentID','DocumentTitle']].drop_duplicates()\n",
    "    return qd\n",
    "train_question_doctag = get_questions_documenttag(train_data)\n",
    "test_question_doctag = get_questions_documenttag(test_data)"
   ]
  },
  {
   "cell_type": "code",
   "execution_count": 269,
   "id": "368895a8",
   "metadata": {},
   "outputs": [],
   "source": [
    "# get unique questions\n",
    "train_questions = train_question_doctag['Question']\n",
    "test_questions = test_question_doctag['Question']"
   ]
  },
  {
   "cell_type": "code",
   "execution_count": 270,
   "id": "c3f8f00c",
   "metadata": {},
   "outputs": [],
   "source": [
    "# get the unique document ids\n",
    "train_docid = train_question_doctag['DocumentID']\n",
    "test_docid = test_question_doctag['DocumentID']"
   ]
  },
  {
   "cell_type": "markdown",
   "id": "2fbf4306",
   "metadata": {},
   "source": [
    "Extract the answers to those questions."
   ]
  },
  {
   "cell_type": "code",
   "execution_count": 328,
   "id": "e2d6a3ff",
   "metadata": {},
   "outputs": [],
   "source": [
    "def get_answers(data, questions, documentids): #(done by Finn, tweaked by Dan)\n",
    "    answers = [] # list of answers\n",
    "    for q in range(len(questions)):\n",
    "        question = questions.iloc[q]\n",
    "        doc_id = documentids.iloc[q] # add the document id\n",
    "        df = data[data['Question'] == question]\n",
    "        index = df.loc[df['Label'] == 1]['Sentence'].index.values\n",
    "        if len(index) == 0: # if no answer found\n",
    "            answers.append([question, doc_id, 'No answer'])\n",
    "        elif len(index) == 1: # if 1 answer found\n",
    "            answers.append([question, doc_id, df.loc[index[0], \"Sentence\"]])\n",
    "        elif len(index) > 1: # if more than 1 answer found\n",
    "            for item in range(len(index)):\n",
    "                answers.append([question, doc_id, df.loc[index[item], \"Sentence\"]])\n",
    "    return answers\n",
    "\n",
    "train_answers = pd.DataFrame(get_answers(train_data, train_questions, train_docid))\n",
    "test_answers = pd.DataFrame(get_answers(test_data, test_questions, test_docid))"
   ]
  },
  {
   "cell_type": "markdown",
   "id": "12e5527b",
   "metadata": {},
   "source": [
    "The above get_answers returns train_answers and test_answers which, gives us in the following columns\n",
    "- Question\n",
    "- Related Document ID\n",
    "- Answer (if no answer to that question, return no answer)"
   ]
  },
  {
   "cell_type": "code",
   "execution_count": 329,
   "id": "ac4567fb",
   "metadata": {},
   "outputs": [],
   "source": [
    "def get_documents(data, questions, documentids): # (done by Finn, tweaked by Dan)\n",
    "    documents = []\n",
    "    for q in range(len(questions)):\n",
    "        question = questions.iloc[q]\n",
    "        doc_id = documentids.iloc[q] # add the document id\n",
    "        df = data[data['Question'] == question]\n",
    "        sentences = df['Sentence'].tolist()\n",
    "        for i in range(0, len(sentences) - 1):\n",
    "            sentences[i] = sentences[i] + ' '\n",
    "        documents.append([doc_id,''.join(sentences)])\n",
    "    return documents\n",
    "\n",
    "train_documents = pd.DataFrame(get_documents(train_data, train_questions, train_docid)) # return the individual document in list\n",
    "test_documents = pd.DataFrame(get_documents(test_data, test_questions, test_docid)) # return the individual document in list"
   ]
  },
  {
   "cell_type": "markdown",
   "id": "b0aa7704",
   "metadata": {},
   "source": [
    "The above train_documents and test_documents called from the get_documents gives us in the following columns\n",
    "- Document ID\n",
    "- Full Document"
   ]
  },
  {
   "cell_type": "code",
   "execution_count": 334,
   "id": "0432bb17",
   "metadata": {},
   "outputs": [],
   "source": [
    "# renaming all the columns for more standardised access\n",
    "train_answers.columns = ['Question','DocumentID','Answer']\n",
    "test_answers.columns = ['Question','DocumentID','Answer']\n",
    "train_documents.columns = ['DocumentID','Document']\n",
    "test_documents.columns = ['DocumentID','Document']"
   ]
  },
  {
   "cell_type": "code",
   "execution_count": 337,
   "id": "763141d6",
   "metadata": {},
   "outputs": [
    {
     "data": {
      "text/plain": [
       "(2284, 2117, 680, 630)"
      ]
     },
     "execution_count": 337,
     "metadata": {},
     "output_type": "execute_result"
    }
   ],
   "source": [
    "# result is 2284, 2117, 680, 630\n",
    "# this is because there are questions with multiple answers\n",
    "len(train_answers),len(train_documents), len(test_answers),len(test_documents)"
   ]
  },
  {
   "cell_type": "code",
   "execution_count": 442,
   "id": "dfffdb74",
   "metadata": {},
   "outputs": [
    {
     "data": {
      "text/html": [
       "<div>\n",
       "<style scoped>\n",
       "    .dataframe tbody tr th:only-of-type {\n",
       "        vertical-align: middle;\n",
       "    }\n",
       "\n",
       "    .dataframe tbody tr th {\n",
       "        vertical-align: top;\n",
       "    }\n",
       "\n",
       "    .dataframe thead th {\n",
       "        text-align: right;\n",
       "    }\n",
       "</style>\n",
       "<table border=\"1\" class=\"dataframe\">\n",
       "  <thead>\n",
       "    <tr style=\"text-align: right;\">\n",
       "      <th></th>\n",
       "      <th>DocumentID</th>\n",
       "      <th>Document</th>\n",
       "    </tr>\n",
       "  </thead>\n",
       "  <tbody>\n",
       "    <tr>\n",
       "      <th>0</th>\n",
       "      <td>D1</td>\n",
       "      <td>A partly submerged glacier cave on Perito More...</td>\n",
       "    </tr>\n",
       "    <tr>\n",
       "      <th>1</th>\n",
       "      <td>D2</td>\n",
       "      <td>In physics , circular motion is a movement of ...</td>\n",
       "    </tr>\n",
       "    <tr>\n",
       "      <th>2</th>\n",
       "      <td>D5</td>\n",
       "      <td>Apollo Creed is a fictional character from the...</td>\n",
       "    </tr>\n",
       "    <tr>\n",
       "      <th>3</th>\n",
       "      <td>D6</td>\n",
       "      <td>In the United States, the title of federal jud...</td>\n",
       "    </tr>\n",
       "    <tr>\n",
       "      <th>4</th>\n",
       "      <td>D7</td>\n",
       "      <td>The Beretta 21A Bobcat is a small pocket-sized...</td>\n",
       "    </tr>\n",
       "    <tr>\n",
       "      <th>...</th>\n",
       "      <td>...</td>\n",
       "      <td>...</td>\n",
       "    </tr>\n",
       "    <tr>\n",
       "      <th>2112</th>\n",
       "      <td>D2805</td>\n",
       "      <td>Blue Mountain State is an American comedy seri...</td>\n",
       "    </tr>\n",
       "    <tr>\n",
       "      <th>2113</th>\n",
       "      <td>D2806</td>\n",
       "      <td>Apple Inc., formerly Apple Computer, Inc., is ...</td>\n",
       "    </tr>\n",
       "    <tr>\n",
       "      <th>2114</th>\n",
       "      <td>D2807</td>\n",
       "      <td>Section 8 housing in the South Bronx Section 8...</td>\n",
       "    </tr>\n",
       "    <tr>\n",
       "      <th>2115</th>\n",
       "      <td>D2808</td>\n",
       "      <td>Restaurants categorized by type and informatio...</td>\n",
       "    </tr>\n",
       "    <tr>\n",
       "      <th>2116</th>\n",
       "      <td>D2810</td>\n",
       "      <td>U.S. Federal Reserve notes in the mid-1990s Th...</td>\n",
       "    </tr>\n",
       "  </tbody>\n",
       "</table>\n",
       "<p>2117 rows × 2 columns</p>\n",
       "</div>"
      ],
      "text/plain": [
       "     DocumentID                                           Document\n",
       "0            D1  A partly submerged glacier cave on Perito More...\n",
       "1            D2  In physics , circular motion is a movement of ...\n",
       "2            D5  Apollo Creed is a fictional character from the...\n",
       "3            D6  In the United States, the title of federal jud...\n",
       "4            D7  The Beretta 21A Bobcat is a small pocket-sized...\n",
       "...         ...                                                ...\n",
       "2112      D2805  Blue Mountain State is an American comedy seri...\n",
       "2113      D2806  Apple Inc., formerly Apple Computer, Inc., is ...\n",
       "2114      D2807  Section 8 housing in the South Bronx Section 8...\n",
       "2115      D2808  Restaurants categorized by type and informatio...\n",
       "2116      D2810  U.S. Federal Reserve notes in the mid-1990s Th...\n",
       "\n",
       "[2117 rows x 2 columns]"
      ]
     },
     "execution_count": 442,
     "metadata": {},
     "output_type": "execute_result"
    }
   ],
   "source": [
    "train_documents # for ref"
   ]
  },
  {
   "cell_type": "code",
   "execution_count": 444,
   "id": "976c87d1",
   "metadata": {},
   "outputs": [
    {
     "data": {
      "text/html": [
       "<div>\n",
       "<style scoped>\n",
       "    .dataframe tbody tr th:only-of-type {\n",
       "        vertical-align: middle;\n",
       "    }\n",
       "\n",
       "    .dataframe tbody tr th {\n",
       "        vertical-align: top;\n",
       "    }\n",
       "\n",
       "    .dataframe thead th {\n",
       "        text-align: right;\n",
       "    }\n",
       "</style>\n",
       "<table border=\"1\" class=\"dataframe\">\n",
       "  <thead>\n",
       "    <tr style=\"text-align: right;\">\n",
       "      <th></th>\n",
       "      <th>Question</th>\n",
       "      <th>DocumentID</th>\n",
       "      <th>Answer</th>\n",
       "    </tr>\n",
       "  </thead>\n",
       "  <tbody>\n",
       "    <tr>\n",
       "      <th>0</th>\n",
       "      <td>how are glacier caves formed?</td>\n",
       "      <td>D1</td>\n",
       "      <td>A glacier cave is a cave formed within the ice...</td>\n",
       "    </tr>\n",
       "    <tr>\n",
       "      <th>1</th>\n",
       "      <td>How are the directions of the velocity and for...</td>\n",
       "      <td>D2</td>\n",
       "      <td>No answer</td>\n",
       "    </tr>\n",
       "    <tr>\n",
       "      <th>2</th>\n",
       "      <td>how did apollo creed die</td>\n",
       "      <td>D5</td>\n",
       "      <td>No answer</td>\n",
       "    </tr>\n",
       "    <tr>\n",
       "      <th>3</th>\n",
       "      <td>how long is the term for federal judges</td>\n",
       "      <td>D6</td>\n",
       "      <td>No answer</td>\n",
       "    </tr>\n",
       "    <tr>\n",
       "      <th>4</th>\n",
       "      <td>how a beretta model 21 pistols magazines works</td>\n",
       "      <td>D7</td>\n",
       "      <td>No answer</td>\n",
       "    </tr>\n",
       "    <tr>\n",
       "      <th>...</th>\n",
       "      <td>...</td>\n",
       "      <td>...</td>\n",
       "      <td>...</td>\n",
       "    </tr>\n",
       "    <tr>\n",
       "      <th>2279</th>\n",
       "      <td>When was Apple Computer founded</td>\n",
       "      <td>D2806</td>\n",
       "      <td>The company was founded on April 1, 1976, and ...</td>\n",
       "    </tr>\n",
       "    <tr>\n",
       "      <th>2280</th>\n",
       "      <td>what is section eight housing</td>\n",
       "      <td>D2807</td>\n",
       "      <td>Section 8 of the Housing Act of 1937 (), often...</td>\n",
       "    </tr>\n",
       "    <tr>\n",
       "      <th>2281</th>\n",
       "      <td>what is section eight housing</td>\n",
       "      <td>D2807</td>\n",
       "      <td>It operates through several programs, the larg...</td>\n",
       "    </tr>\n",
       "    <tr>\n",
       "      <th>2282</th>\n",
       "      <td>what is the main type of restaurant</td>\n",
       "      <td>D2808</td>\n",
       "      <td>No answer</td>\n",
       "    </tr>\n",
       "    <tr>\n",
       "      <th>2283</th>\n",
       "      <td>what is us dollar worth based on</td>\n",
       "      <td>D2810</td>\n",
       "      <td>No answer</td>\n",
       "    </tr>\n",
       "  </tbody>\n",
       "</table>\n",
       "<p>2284 rows × 3 columns</p>\n",
       "</div>"
      ],
      "text/plain": [
       "                                               Question DocumentID  \\\n",
       "0                         how are glacier caves formed?         D1   \n",
       "1     How are the directions of the velocity and for...         D2   \n",
       "2                              how did apollo creed die         D5   \n",
       "3               how long is the term for federal judges         D6   \n",
       "4        how a beretta model 21 pistols magazines works         D7   \n",
       "...                                                 ...        ...   \n",
       "2279                    When was Apple Computer founded      D2806   \n",
       "2280                      what is section eight housing      D2807   \n",
       "2281                      what is section eight housing      D2807   \n",
       "2282                what is the main type of restaurant      D2808   \n",
       "2283                   what is us dollar worth based on      D2810   \n",
       "\n",
       "                                                 Answer  \n",
       "0     A glacier cave is a cave formed within the ice...  \n",
       "1                                             No answer  \n",
       "2                                             No answer  \n",
       "3                                             No answer  \n",
       "4                                             No answer  \n",
       "...                                                 ...  \n",
       "2279  The company was founded on April 1, 1976, and ...  \n",
       "2280  Section 8 of the Housing Act of 1937 (), often...  \n",
       "2281  It operates through several programs, the larg...  \n",
       "2282                                          No answer  \n",
       "2283                                          No answer  \n",
       "\n",
       "[2284 rows x 3 columns]"
      ]
     },
     "execution_count": 444,
     "metadata": {},
     "output_type": "execute_result"
    }
   ],
   "source": [
    "train_answers # for ref"
   ]
  },
  {
   "cell_type": "markdown",
   "id": "d5edcdf6",
   "metadata": {},
   "source": [
    "**Prior to tagging, we should maybe clean the document and answers first:** (stopped here)\n",
    "\n",
    "Maybe? \n",
    "- lowercase\n",
    "- removing any punctuation or weird symbols\n",
    "- removal of stop words? (probably not)\n",
    "\n",
    "Make sure that the pre-processing is standardised to be the same throughout doc and ans."
   ]
  },
  {
   "cell_type": "code",
   "execution_count": 438,
   "id": "23ad4527",
   "metadata": {
    "scrolled": true
   },
   "outputs": [],
   "source": [
    "# Method 1: Indivually tag the document (done by Finn, tweaked by Dan)\n",
    "\n",
    "def labelling(documents, answers):\n",
    "    tagged_documents = []\n",
    "    for q in range(len(answers)):\n",
    "        tagged_document = []\n",
    "        qn = (answers['Question'].loc[q])\n",
    "        doc_id = answers['DocumentID'].loc[q]\n",
    "        content = documents.loc[documents['DocumentID'] == doc_id,'Document'].values[0]\n",
    "        answer = answers['Answer'].loc[q]\n",
    "        # if there is no answer to the question\n",
    "        if answer == 'No answer':\n",
    "            tokens = word_tokenize(content)\n",
    "            for j in range(len(tokens)):\n",
    "                tagged_document.append('N') # none \n",
    "        else:\n",
    "            parts = content.partition(answer)\n",
    "            for j in range(len(parts)):\n",
    "                tokens = word_tokenize(parts[j])\n",
    "                if j == 1:\n",
    "                    tagged_document.append('S') # start of answer\n",
    "                    for k in range(len(tokens) - 2):\n",
    "                        tagged_document.append('I') # inside of answer\n",
    "                    tagged_document.append('E') # end of answer\n",
    "                else:\n",
    "                    for k in range(len(tokens)):\n",
    "                        tagged_document.append('N') # outside answer\n",
    "        tagged_documents.append(tagged_document)\n",
    "    return tagged_documents\n",
    "\n",
    "train_doc_ans_labels = labelling(train_documents, train_answers)"
   ]
  },
  {
   "cell_type": "code",
   "execution_count": 440,
   "id": "af5f3147",
   "metadata": {},
   "outputs": [
    {
     "data": {
      "text/plain": [
       "'Francis Albert \"Frank\" Sinatra, , (December 12, 1915 – May 14, 1998) was an American singer and film actor. Beginning his musical career in the swing era with Harry James and Tommy Dorsey , Sinatra found unprecedented success as a solo artist from the early to mid-1940s after being signed to Columbia Records in 1943. Being the idol of the \" bobby soxers \", he released his first album, The Voice of Frank Sinatra in 1946. His professional career had stalled by the 1950s, but it was reborn in 1953 after he won the Academy Award for Best Supporting Actor for his performance in From Here to Eternity . He signed with Capitol Records in 1953 and released several critically lauded albums (such as In the Wee Small Hours , Songs for Swingin\\' Lovers! , Come Fly with Me , Only the Lonely and Nice \\'n\\' Easy ). Sinatra left Capitol to found his own record label, Reprise Records in 1961 (finding success with albums such as Ring-a-Ding-Ding! , Sinatra at the Sands and Francis Albert Sinatra & Antonio Carlos Jobim ), toured internationally, was a founding member of the Rat Pack and fraternized with celebrities and statesmen, including John F. Kennedy . Sinatra turned 50 in 1965, recorded the retrospective September of My Years , starred in the Emmy -winning television special Frank Sinatra: A Man and His Music , and scored hits with \" Strangers in the Night \" and \" My Way \". With sales of his music dwindling and after appearing in several poorly received films, Sinatra retired for the first time in 1971. Two years later, however, he came out of retirement and in 1973 recorded several albums, scoring a Top 40 hit with \" (Theme From) New York, New York \" in 1980. Using his Las Vegas shows as a home base, he toured both within the United States and internationally, until a short time before his death in 1998. Sinatra also forged a highly successful career as a film actor. After winning Best Supporting Actor in 1953, he also garnered a nomination for Best Actor for The Man with the Golden Arm , and critical acclaim for his performance in The Manchurian Candidate . He also starred in such musicals as High Society , Pal Joey , Guys and Dolls and On the Town . Sinatra was honored at the Kennedy Center Honors in 1983 and was awarded the Presidential Medal of Freedom by Ronald Reagan in 1985 and the Congressional Gold Medal in 1997. He was the recipient of eleven Grammy Awards , including the Grammy Trustees Award , Grammy Legend Award and the Grammy Lifetime Achievement Award . Sinatra is also one of world’s best-selling artists of all time , having sold more than 150 million copies worldwide.'"
      ]
     },
     "execution_count": 440,
     "metadata": {},
     "output_type": "execute_result"
    }
   ],
   "source": [
    "def testing_tokens(ind, labels, documents, answers):\n",
    "    tokens = labels[ind]\n",
    "    doc_id = answers.loc[ind][1]\n",
    "    content = documents.loc[documents['DocumentID'] == doc_id,'Document'].values[0]\n",
    "    # still working on this\n",
    "    return(content)\n",
    "\n",
    "testing_tokens(28, train_doc_ans_labels, train_documents, train_answers)"
   ]
  }
 ],
 "metadata": {
  "kernelspec": {
   "display_name": "Python 3 (ipykernel)",
   "language": "python",
   "name": "python3"
  },
  "language_info": {
   "codemirror_mode": {
    "name": "ipython",
    "version": 3
   },
   "file_extension": ".py",
   "mimetype": "text/x-python",
   "name": "python",
   "nbconvert_exporter": "python",
   "pygments_lexer": "ipython3",
   "version": "3.9.7"
  }
 },
 "nbformat": 4,
 "nbformat_minor": 5
}
