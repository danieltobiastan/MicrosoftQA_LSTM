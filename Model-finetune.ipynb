{
 "cells": [
  {
   "attachments": {},
   "cell_type": "markdown",
   "metadata": {},
   "source": [
    "## 2. Model Implementation\n"
   ]
  },
  {
   "attachments": {},
   "cell_type": "markdown",
   "metadata": {},
   "source": [
    "Running the data wrangling bit can be quite computationally intensive, and\n"
   ]
  },
  {
   "cell_type": "code",
   "execution_count": 2,
   "metadata": {},
   "outputs": [
    {
     "name": "stdout",
     "output_type": "stream",
     "text": [
      "Requirement already satisfied: optuna in c:\\users\\nicho\\.pyenv\\pyenv-win\\versions\\miniconda3-py310_23.1.0-1\\envs\\nlp\\lib\\site-packages (3.1.1)\n",
      "Requirement already satisfied: sqlalchemy>=1.3.0 in c:\\users\\nicho\\.pyenv\\pyenv-win\\versions\\miniconda3-py310_23.1.0-1\\envs\\nlp\\lib\\site-packages (from optuna) (2.0.14)\n",
      "Requirement already satisfied: PyYAML in c:\\users\\nicho\\.pyenv\\pyenv-win\\versions\\miniconda3-py310_23.1.0-1\\envs\\nlp\\lib\\site-packages (from optuna) (6.0)\n",
      "Requirement already satisfied: numpy in c:\\users\\nicho\\.pyenv\\pyenv-win\\versions\\miniconda3-py310_23.1.0-1\\envs\\nlp\\lib\\site-packages (from optuna) (1.23.5)\n",
      "Requirement already satisfied: packaging>=20.0 in c:\\users\\nicho\\.pyenv\\pyenv-win\\versions\\miniconda3-py310_23.1.0-1\\envs\\nlp\\lib\\site-packages (from optuna) (22.0)\n",
      "Requirement already satisfied: cmaes>=0.9.1 in c:\\users\\nicho\\.pyenv\\pyenv-win\\versions\\miniconda3-py310_23.1.0-1\\envs\\nlp\\lib\\site-packages (from optuna) (0.9.1)\n",
      "Requirement already satisfied: tqdm in c:\\users\\nicho\\.pyenv\\pyenv-win\\versions\\miniconda3-py310_23.1.0-1\\envs\\nlp\\lib\\site-packages (from optuna) (4.65.0)\n",
      "Requirement already satisfied: alembic>=1.5.0 in c:\\users\\nicho\\.pyenv\\pyenv-win\\versions\\miniconda3-py310_23.1.0-1\\envs\\nlp\\lib\\site-packages (from optuna) (1.11.1)\n",
      "Requirement already satisfied: colorlog in c:\\users\\nicho\\.pyenv\\pyenv-win\\versions\\miniconda3-py310_23.1.0-1\\envs\\nlp\\lib\\site-packages (from optuna) (6.7.0)\n",
      "Requirement already satisfied: typing-extensions>=4 in c:\\users\\nicho\\.pyenv\\pyenv-win\\versions\\miniconda3-py310_23.1.0-1\\envs\\nlp\\lib\\site-packages (from alembic>=1.5.0->optuna) (4.4.0)\n",
      "Requirement already satisfied: Mako in c:\\users\\nicho\\.pyenv\\pyenv-win\\versions\\miniconda3-py310_23.1.0-1\\envs\\nlp\\lib\\site-packages (from alembic>=1.5.0->optuna) (1.2.4)\n",
      "Requirement already satisfied: greenlet!=0.4.17 in c:\\users\\nicho\\.pyenv\\pyenv-win\\versions\\miniconda3-py310_23.1.0-1\\envs\\nlp\\lib\\site-packages (from sqlalchemy>=1.3.0->optuna) (2.0.2)\n",
      "Requirement already satisfied: colorama in c:\\users\\nicho\\.pyenv\\pyenv-win\\versions\\miniconda3-py310_23.1.0-1\\envs\\nlp\\lib\\site-packages (from colorlog->optuna) (0.4.6)\n",
      "Requirement already satisfied: MarkupSafe>=0.9.2 in c:\\users\\nicho\\.pyenv\\pyenv-win\\versions\\miniconda3-py310_23.1.0-1\\envs\\nlp\\lib\\site-packages (from Mako->alembic>=1.5.0->optuna) (2.1.1)\n",
      "Note: you may need to restart the kernel to use updated packages.\n",
      "Requirement already satisfied: tabulate in c:\\users\\nicho\\.pyenv\\pyenv-win\\versions\\miniconda3-py310_23.1.0-1\\envs\\nlp\\lib\\site-packages (0.9.0)\n",
      "Note: you may need to restart the kernel to use updated packages.\n"
     ]
    }
   ],
   "source": [
    "%pip install optuna\n",
    "%pip install tabulate\n",
    "%pip install seaborn\n",
    "%pip install matplotlib"
   ]
  },
  {
   "cell_type": "code",
   "execution_count": 3,
   "metadata": {},
   "outputs": [],
   "source": [
    "import numpy as np\n",
    "import torch\n",
    "import torch.nn as nn\n",
    "import torch.nn.functional as F\n",
    "\n",
    "# load in the np data from the cleaneddata folder\n",
    "final_doc_test = np.load(\"cleaneddata/final_doc_test.npy\")\n",
    "final_doc_train = np.load(\"cleaneddata/final_doc_train.npy\")\n",
    "final_qn_train = np.load(\"cleaneddata/final_qn_train.npy\")\n",
    "final_qn_test = np.load(\"cleaneddata/final_qn_test.npy\")\n",
    "tr_labels = np.load(\"cleaneddata/tr_labels.npy\")\n",
    "ts_labels = np.load(\"cleaneddata/ts_labels.npy\")"
   ]
  },
  {
   "cell_type": "code",
   "execution_count": 4,
   "metadata": {},
   "outputs": [],
   "source": [
    "device = torch.device(\"cuda\" if torch.cuda.is_available() else \"cpu\")"
   ]
  },
  {
   "cell_type": "code",
   "execution_count": 5,
   "metadata": {},
   "outputs": [
    {
     "name": "stdout",
     "output_type": "stream",
     "text": [
      "(630, 200, 156) (2117, 200, 156) (2117, 23, 156) (630, 23, 156) (2117, 200) (630, 200)\n"
     ]
    }
   ],
   "source": [
    "# check the shape of all the above\n",
    "print(\n",
    "    final_doc_test.shape,\n",
    "    final_doc_train.shape,\n",
    "    final_qn_train.shape,\n",
    "    final_qn_test.shape,\n",
    "    tr_labels.shape,\n",
    "    ts_labels.shape,\n",
    ")"
   ]
  },
  {
   "cell_type": "code",
   "execution_count": 6,
   "metadata": {},
   "outputs": [],
   "source": [
    "# convert the numpy arrays to tensors\n",
    "final_doc_test = torch.from_numpy(final_doc_test).to(device=device, dtype=torch.float32)\n",
    "final_doc_train = torch.from_numpy(final_doc_train).to(\n",
    "    device=device, dtype=torch.float32\n",
    ")\n",
    "final_qn_train = torch.from_numpy(final_qn_train).to(device=device, dtype=torch.float32)\n",
    "final_qn_test = torch.from_numpy(final_qn_test).to(device=device, dtype=torch.float32)"
   ]
  },
  {
   "cell_type": "code",
   "execution_count": 7,
   "metadata": {},
   "outputs": [
    {
     "name": "stdout",
     "output_type": "stream",
     "text": [
      "torch.Size([630, 200, 156]) torch.Size([2117, 200, 156]) torch.Size([2117, 23, 156]) torch.Size([630, 23, 156])\n"
     ]
    }
   ],
   "source": [
    "# check the shapes of the tensors\n",
    "print(\n",
    "    final_doc_test.shape,\n",
    "    final_doc_train.shape,\n",
    "    final_qn_train.shape,\n",
    "    final_qn_test.shape,\n",
    ")"
   ]
  },
  {
   "attachments": {},
   "cell_type": "markdown",
   "metadata": {},
   "source": [
    "**Input Embedding Ablation Study**\n",
    "\n",
    "In the model input embedding Ablation study, we are given 3 variations of input embeddings to test. We will test 3 options:\n",
    "\n",
    "1. Word2Vec only # 100 dims\n",
    "2. Word2Vec + Tf-IDF # 101 dims\n",
    "3. Word2Vec + all features (TF-IDF, POS, NER) # 156 dims\n",
    "\n",
    "Since we are using tensors, we can use tensor slicing to take out the relevant features.\n",
    "Our tensor of embeddings are built as follows (w2v, TF-IDF, POS, NER)\n"
   ]
  },
  {
   "cell_type": "code",
   "execution_count": 8,
   "metadata": {},
   "outputs": [],
   "source": [
    "def convert_tensors(tf_doc_train, tf_doc_test, tf_qn_train, tf_qn_test, option=3):\n",
    "    if option == 3:\n",
    "        return tf_doc_train, tf_doc_test, tf_qn_train, tf_qn_test\n",
    "    elif option == 1:\n",
    "        tf_doc_train = tf_doc_train[:, :, :100]\n",
    "        tf_doc_test = tf_doc_test[:, :, :100]\n",
    "        tf_qn_train = tf_qn_train[:, :, :100]\n",
    "        tf_qn_test = tf_qn_test[:, :, :100]\n",
    "        return tf_doc_train, tf_doc_test, tf_qn_train, tf_qn_test\n",
    "    elif option == 2:\n",
    "        tf_doc_train = tf_doc_train[:, :, :101]\n",
    "        tf_doc_test = tf_doc_test[:, :, :101]\n",
    "        tf_qn_train = tf_qn_train[:, :, :101]\n",
    "        tf_qn_test = tf_qn_test[:, :, :101]\n",
    "        return tf_doc_train, tf_doc_test, tf_qn_train, tf_qn_test"
   ]
  },
  {
   "cell_type": "code",
   "execution_count": 9,
   "metadata": {},
   "outputs": [],
   "source": [
    "# Create a mapping from label to index\n",
    "label2index = {\"N\": 0, \"S\": 1, \"I\": 2, \"E\": 3}\n",
    "\n",
    "# Find the maximum length of the label lists\n",
    "max_len = final_doc_train.shape[1]\n",
    "\n",
    "# Create a tensor to hold the one-hot encoded labels\n",
    "train_labels = torch.zeros(\n",
    "    len(tr_labels), max_len, len(label2index), device=device, dtype=torch.float32\n",
    ")\n",
    "test_labels = torch.zeros(\n",
    "    len(ts_labels),\n",
    "    max_len,\n",
    "    len(label2index),\n",
    "    device=device,\n",
    "    dtype=torch.float32,\n",
    ")\n",
    "\n",
    "# Sets the first element of the third dimension of the target_labels tensor to 1\n",
    "train_labels[:, :, 0] = 1\n",
    "test_labels[:, :, 0] = 1\n",
    "\n",
    "# Iterate over the label lists and one-hot encode the labels\n",
    "for i, label_list in enumerate(tr_labels):\n",
    "    for j, label in enumerate(label_list):\n",
    "        index = label2index[label]\n",
    "        # Sets all elements of the target_labels tensor at position (i,j) to 0\n",
    "        train_labels[i, j] = 0\n",
    "        train_labels[i, j, index] = 1\n",
    "\n",
    "for i, label_list in enumerate(ts_labels):\n",
    "    for j, label in enumerate(label_list):\n",
    "        index = label2index[label]\n",
    "        # Sets all elements of the target_labels tensor at position (i,j) to 0\n",
    "        test_labels[i, j] = 0\n",
    "        test_labels[i, j, index] = 1"
   ]
  },
  {
   "cell_type": "code",
   "execution_count": 10,
   "metadata": {},
   "outputs": [],
   "source": [
    "from sklearn.utils.class_weight import compute_class_weight\n",
    "\n",
    "# Reshape the target labels tensor\n",
    "reshaped_target_labels = (\n",
    "    train_labels.view(-1, 4).cpu().numpy()\n",
    ")  # Assuming it's on the GPU\n",
    "\n",
    "# Flatten the reshaped target labels\n",
    "flattened_target_labels = reshaped_target_labels.argmax(axis=1)\n",
    "\n",
    "# Calculate the class weights\n",
    "class_weights = compute_class_weight(\n",
    "    class_weight=\"balanced\", classes=[0, 1, 2, 3], y=flattened_target_labels\n",
    ")\n",
    "\n",
    "# Convert the class weights to a PyTorch tensor\n",
    "class_weights = torch.tensor(class_weights, dtype=torch.float32, device=device)"
   ]
  },
  {
   "attachments": {},
   "cell_type": "markdown",
   "metadata": {},
   "source": [
    "Data Preprocessing complete at this stage, we should check again the shapes of the tensors\n"
   ]
  },
  {
   "attachments": {},
   "cell_type": "markdown",
   "metadata": {},
   "source": [
    "## 3. Model Architecture\n"
   ]
  },
  {
   "cell_type": "code",
   "execution_count": 11,
   "metadata": {},
   "outputs": [],
   "source": [
    "from torch import Tensor\n",
    "from enum import Enum\n",
    "from typing import Literal"
   ]
  },
  {
   "cell_type": "code",
   "execution_count": 12,
   "metadata": {},
   "outputs": [],
   "source": [
    "# Architecture of the model for the Document BiLSTM\n",
    "\n",
    "\n",
    "class DocumentBiRNN(nn.Module):\n",
    "    def __init__(\n",
    "        self,\n",
    "        input_size: int,\n",
    "        hidden_size: int,\n",
    "        num_layers=1,\n",
    "    ):\n",
    "        super(DocumentBiRNN, self).__init__()\n",
    "        self.hidden_size = hidden_size\n",
    "        self.lstm = nn.LSTM(\n",
    "            input_size,\n",
    "            hidden_size,\n",
    "            num_layers=num_layers,\n",
    "            bidirectional=True,\n",
    "        )\n",
    "\n",
    "    def forward(self, input: Tensor):\n",
    "        input = input.unsqueeze(1)\n",
    "        output: Tensor\n",
    "        output, _ = self.lstm(input)\n",
    "        # print(\"document output shape: \", output.shape)\n",
    "        return output\n",
    "\n",
    "\n",
    "# Architecture of the model for the Question BiLSTM\n",
    "\n",
    "\n",
    "class QuestionBiRNN(nn.Module):\n",
    "    def __init__(\n",
    "        self,\n",
    "        input_size: int,\n",
    "        hidden_size: int,\n",
    "        num_layers=1,\n",
    "    ):\n",
    "        super(QuestionBiRNN, self).__init__()\n",
    "        self.hidden_size = hidden_size\n",
    "        self.input_size = input_size\n",
    "        self.lstm = nn.LSTM(\n",
    "            input_size,\n",
    "            hidden_size,\n",
    "            num_layers=num_layers,\n",
    "            bidirectional=True,\n",
    "        )\n",
    "\n",
    "    def forward(self, input: Tensor):\n",
    "        input = input.unsqueeze(1)\n",
    "        output, (hn, cn) = self.lstm(input)\n",
    "        forward_hn = hn[-2, :, :]\n",
    "        backward_hn = hn[-1, :, :]\n",
    "        hidden = torch.cat((forward_hn, backward_hn), dim=-1).unsqueeze(0)\n",
    "        # print(\"question hidden shape: \", hidden.shape)\n",
    "        return hidden\n",
    "\n",
    "\n",
    "# attention methods\n",
    "class AttentionMethod(Enum):\n",
    "    DOT_PRODUCT = \"dot_product\"\n",
    "    SCALE_DOT_PRODUCT = \"scale_dot_product\"\n",
    "    COSINE_SIMILARITY = \"cosine_similarity\"\n",
    "\n",
    "    def __str__(self):\n",
    "        return self.value\n",
    "\n",
    "\n",
    "# Architecture of the model for the Attention Calculation\n",
    "\n",
    "\n",
    "class Attention(nn.Module):\n",
    "    def __init__(\n",
    "        self,\n",
    "        ques_len,\n",
    "        hidden_size: int,\n",
    "        attention_method: Literal[\n",
    "            \"dot_product\",\n",
    "            \"scale_dot_product\",\n",
    "            \"cosine_similarity\",\n",
    "        ] = \"dot_product\",\n",
    "    ):\n",
    "        super(Attention, self).__init__()\n",
    "        self.out = nn.Linear(ques_len, hidden_size)\n",
    "        self.hidden_size = hidden_size\n",
    "        self.attention_method = AttentionMethod(attention_method)\n",
    "\n",
    "    def forward(self, document_output, question_summary):\n",
    "        if self.attention_method == AttentionMethod.DOT_PRODUCT:\n",
    "            document_output = document_output.permute(\n",
    "                1, 0, 2\n",
    "            )  # torch.Size([200, 1, 16])\n",
    "            question_summary = question_summary.permute(\n",
    "                1, 2, 0\n",
    "            )  # torch.Size([1, 16, 1])\n",
    "\n",
    "            attention_scores = torch.bmm(document_output, question_summary).permute(\n",
    "                1, 0, 2\n",
    "            )\n",
    "            # get attention weights\n",
    "            attention_weights = nn.functional.softmax(attention_scores, dim=1)\n",
    "            # attention_scores = torch.bmm(document_output, question_summary) / np.sqrt(self.hidden_size)\n",
    "            # get context vector\n",
    "            context_scores = torch.bmm(\n",
    "                document_output.permute(1, 2, 0), attention_weights\n",
    "            ).permute(0, 2, 1)\n",
    "            return context_scores\n",
    "\n",
    "        elif self.attention_method == AttentionMethod.SCALE_DOT_PRODUCT:\n",
    "            document_output = document_output.permute(1, 0, 2)\n",
    "            question_summary = question_summary.permute(1, 2, 0)\n",
    "            attention_scores = torch.bmm(document_output, question_summary).permute(\n",
    "                1, 0, 2\n",
    "            ) / np.sqrt(self.hidden_size)\n",
    "            attention_weights = nn.functional.softmax(attention_scores, dim=1)\n",
    "            context_scores = torch.bmm(\n",
    "                document_output.permute(1, 2, 0), attention_weights\n",
    "            ).permute(0, 2, 1)\n",
    "            return context_scores\n",
    "\n",
    "        elif self.attention_method == AttentionMethod.COSINE_SIMILARITY:\n",
    "            document_output = document_output.permute(1, 0, 2)\n",
    "            question_summary = question_summary.permute(1, 2, 0)\n",
    "            question_summary = question_summary.squeeze(-1)\n",
    "            # cosine similarity attention:\n",
    "            cos_sim = F.cosine_similarity(\n",
    "                document_output, question_summary.unsqueeze(0), dim=-1\n",
    "            ).T.unsqueeze(1)\n",
    "            attention_weights = nn.functional.softmax(cos_sim, dim=1)\n",
    "            context_scores = torch.bmm(\n",
    "                document_output.permute(1, 2, 0), attention_weights\n",
    "            ).permute(0, 2, 1)\n",
    "            return context_scores\n",
    "\n",
    "\n",
    "# Architecture of the model for the Attention Weighted Document Representation a.k.a ReadingComprehension\n",
    "class ReadingComprehensionModel(nn.Module):\n",
    "    def __init__(self, document_rnn, question_rnn, attention, hidden_size, output_size):\n",
    "        super(ReadingComprehensionModel, self).__init__()\n",
    "        self.document_rnn = document_rnn\n",
    "        self.question_rnn = question_rnn\n",
    "        self.attention = attention\n",
    "        self.linear = nn.Linear(hidden_size * 2, hidden_size * 2)\n",
    "        self.linear2 = nn.Linear(hidden_size * 2, output_size)\n",
    "\n",
    "    def predict_label(self, attention_output):\n",
    "        attention_output = torch.squeeze(attention_output, 1)\n",
    "        # pass to linear\n",
    "        pred_weights = self.linear(attention_output)\n",
    "        pred_weights = self.linear2(pred_weights)\n",
    "        # get the softmax\n",
    "        # pred_weights = nn.functional.softmax(pred_weights, dim=1)\n",
    "        return pred_weights"
   ]
  },
  {
   "cell_type": "code",
   "execution_count": 13,
   "metadata": {},
   "outputs": [],
   "source": [
    "# Function to train the model\n",
    "\n",
    "\n",
    "def trainIter(\n",
    "    model,\n",
    "    document_inputs,\n",
    "    question_inputs,\n",
    "    target_labels,\n",
    "    num_epochs,\n",
    "    criterion,\n",
    "    optimizer,\n",
    "    verbose=True,\n",
    "):\n",
    "    model.train()\n",
    "\n",
    "    for epoch in range(num_epochs):\n",
    "        loss = 0\n",
    "        for document_input, question_input, target_label in zip(\n",
    "            document_inputs, question_inputs, target_labels\n",
    "        ):\n",
    "            # optimizer.zero_grad()\n",
    "\n",
    "            document_output = model.document_rnn(document_input)\n",
    "            question_summary = model.question_rnn(question_input)\n",
    "\n",
    "            attention_output = model.attention(document_output, question_summary)\n",
    "\n",
    "            token_label_logits = model.predict_label(attention_output).to(device)\n",
    "\n",
    "            # print(\"token label logits shape: \", token_label_logits)\n",
    "            # print(\"target label shape: \", target_label.shape)\n",
    "            # print(\"token label logits: \", token_label_logits)\n",
    "\n",
    "            # print(token_label_logits[0])\n",
    "            # print(target_label[0])\n",
    "            # raise TypeError(\"stop\")\n",
    "\n",
    "            loss += criterion(token_label_logits, target_label)\n",
    "            optimizer.zero_grad()\n",
    "            # print(loss)\n",
    "\n",
    "        loss.backward()\n",
    "        optimizer.step()\n",
    "\n",
    "        avg_loss = loss.item() / len(document_inputs)\n",
    "\n",
    "        if verbose:\n",
    "            print(f\"Epoch {epoch+1}/{num_epochs}, Loss: {avg_loss:.4f}\")"
   ]
  },
  {
   "cell_type": "code",
   "execution_count": 14,
   "metadata": {},
   "outputs": [],
   "source": [
    "from sklearn.metrics import (\n",
    "    accuracy_score,\n",
    "    precision_score,\n",
    "    recall_score,\n",
    "    f1_score,\n",
    "    classification_report,\n",
    ")"
   ]
  },
  {
   "cell_type": "code",
   "execution_count": 15,
   "metadata": {},
   "outputs": [],
   "source": [
    "# Evalutation of the model\n",
    "\n",
    "START_LABEL = 1\n",
    "END_LABEL = 3\n",
    "\n",
    "\n",
    "def evaluate(\n",
    "    model,\n",
    "    document_inputs,\n",
    "    question_inputs,\n",
    "    target_labels,\n",
    "    criterion,\n",
    "    output_dict=False,\n",
    "    verbose=True,\n",
    "):\n",
    "    model.eval()\n",
    "    with torch.no_grad():\n",
    "        loss = 0\n",
    "        all_predictions = []\n",
    "        all_targets = []\n",
    "        for document_input, question_input, target_label in zip(\n",
    "            document_inputs, question_inputs, target_labels\n",
    "        ):\n",
    "            document_output = model.document_rnn(document_input)\n",
    "            question_summary = model.question_rnn(question_input)\n",
    "            attention_output = model.attention(document_output, question_summary)\n",
    "            token_label_logits = model.predict_label(attention_output).to(device)\n",
    "            loss += criterion(token_label_logits, target_label)\n",
    "\n",
    "            # print(token_label_logits)\n",
    "\n",
    "            predictions = token_label_logits.argmax(dim=-1).cpu().numpy()\n",
    "            targets = target_label.argmax(dim=-1).cpu().numpy()\n",
    "            # print(predictions == 1)\n",
    "\n",
    "            if any(targets == START_LABEL) and any(targets == END_LABEL):\n",
    "                # Find indices of start and end tokens\n",
    "                start_token_idx = np.where(targets == START_LABEL)[0]\n",
    "                end_token_idx = np.where(targets == END_LABEL)[0]\n",
    "\n",
    "                # print(\"target: \", targets[start_token_idx[0] : end_token_idx[0] + 1])\n",
    "                # print(\n",
    "                #    \"prediction: \",\n",
    "                #    predictions[start_token_idx[0] : end_token_idx[0] + 1],\n",
    "                # )\n",
    "                # print()\n",
    "\n",
    "                # Take slice of predictions and target_labels for sentence tokens\n",
    "                sentence_prediction = predictions[\n",
    "                    start_token_idx[0] : end_token_idx[0] + 1\n",
    "                ]\n",
    "                sentence_target = targets[start_token_idx[0] : end_token_idx[0] + 1]\n",
    "\n",
    "                all_predictions.extend(sentence_prediction)\n",
    "                all_targets.extend(sentence_target)\n",
    "            else:\n",
    "                # Use the whole document since there is no answer\n",
    "                all_predictions.extend(predictions)\n",
    "                all_targets.extend(targets)\n",
    "\n",
    "        # print(all_predictions)\n",
    "        # print(all_targets)\n",
    "\n",
    "        avg_loss = loss.item() / len(document_inputs)\n",
    "        cr = classification_report(\n",
    "            all_targets, all_predictions, output_dict=output_dict\n",
    "        )\n",
    "\n",
    "        return cr"
   ]
  },
  {
   "cell_type": "code",
   "execution_count": 16,
   "metadata": {},
   "outputs": [],
   "source": [
    "# prior to training\n",
    "as_doc_train, as_doc_test, as_qn_train, as_qn_test = convert_tensors(\n",
    "    final_doc_train, final_doc_test, final_qn_train, final_qn_test, 3\n",
    ")\n",
    "# if not running any ablation, use the free up space by deleting np arrays:\n",
    "# del final_doc_test, final_doc_train, final_qn_train, final_qn_test, tr_labels, ts_labels"
   ]
  },
  {
   "cell_type": "code",
   "execution_count": 17,
   "metadata": {},
   "outputs": [],
   "source": [
    "# Start of the training\n",
    "\n",
    "from torch import optim\n",
    "\n",
    "\n",
    "def train(\n",
    "    as_doc_train=as_doc_train,\n",
    "    as_qn_train=as_qn_train,\n",
    "    train_labels=train_labels,\n",
    "    hidden_size=64,\n",
    "    epochs=10,\n",
    "    learning_rate=0.01,\n",
    "    num_layers=1,\n",
    "    token_labels=4,\n",
    "    attention_method: Literal[\n",
    "        \"dot_product\",\n",
    "        \"scale_dot_product\",\n",
    "        \"cosine_similarity\",\n",
    "    ] = \"dot_product\",\n",
    "    verbose=True,\n",
    "):\n",
    "    # note the names of the tensors are changed to:\n",
    "    # as_doc_train, as_doc_test, as_qn_train, as_qn_test, train_labels, test_labels are called before in the ablation part\n",
    "    # to avoid confusion with the original tensors\n",
    "\n",
    "    # as_doc_train, as_doc_test, as_qn_train, as_qn_test\n",
    "\n",
    "    document_num_embeddings = as_doc_train.shape[2]\n",
    "    question_num_embeddings = as_qn_train.shape[2]\n",
    "    ques_len = as_qn_train.shape[1]\n",
    "\n",
    "    document_rnn = DocumentBiRNN(\n",
    "        hidden_size=hidden_size,\n",
    "        input_size=document_num_embeddings,\n",
    "        num_layers=num_layers,\n",
    "    ).to(device)\n",
    "    question_rnn = QuestionBiRNN(\n",
    "        input_size=question_num_embeddings,\n",
    "        hidden_size=hidden_size,\n",
    "        num_layers=num_layers,\n",
    "    ).to(device)\n",
    "    attention = Attention(ques_len, hidden_size, attention_method).to(device)\n",
    "    reading_comp = ReadingComprehensionModel(\n",
    "        document_rnn,\n",
    "        question_rnn,\n",
    "        attention,\n",
    "        hidden_size=hidden_size,\n",
    "        output_size=token_labels,\n",
    "    ).to(device)\n",
    "    reading_comp_optimizer = optim.AdamW(reading_comp.parameters(), lr=learning_rate)\n",
    "    criterion = nn.CrossEntropyLoss(\n",
    "        weight=class_weights\n",
    "    )  # to account for imbalanced class weights\n",
    "\n",
    "    trainIter(\n",
    "        reading_comp,\n",
    "        as_doc_train,\n",
    "        as_qn_train,\n",
    "        train_labels,\n",
    "        epochs,\n",
    "        criterion,\n",
    "        reading_comp_optimizer,\n",
    "        verbose=verbose,\n",
    "    )\n",
    "\n",
    "    return reading_comp, criterion"
   ]
  },
  {
   "attachments": {},
   "cell_type": "markdown",
   "metadata": {},
   "source": [
    "## 3a. Attention Ablation Study\n",
    "\n",
    "In this section, we study 3 different type of attention mechanisms between the question model and the document model. We ensured that the 3 attention mechanisms are ran on the same model hyperparameters, so as to keep things interpretable and standardized across the study.\n",
    "\n",
    "The hyperparameters of the training model are as follows:\n",
    "\n",
    "-   RNN (Bi-LSTM) Hidden Size: 64,\n",
    "-   Number of epochs: 10,\n",
    "-   Learning Rate: 0.01,\n",
    "-   Number of RNN (Bi-LSTM) layers: 1\n"
   ]
  },
  {
   "attachments": {},
   "cell_type": "markdown",
   "metadata": {},
   "source": [
    "**Attention Ablation Study - Dot Product**\n"
   ]
  },
  {
   "cell_type": "code",
   "execution_count": 18,
   "metadata": {},
   "outputs": [],
   "source": [
    "import os\n",
    "\n",
    "model_path_dot = \"./pytorch/dot_product_model.pt\"\n",
    "\n",
    "if os.path.exists(model_path_dot):\n",
    "    reading_comp_dot = torch.load(model_path_dot)\n",
    "    criterion_dot = nn.CrossEntropyLoss(\n",
    "        weight=class_weights\n",
    "    )  # to account for imbalanced class weights\n",
    "else:\n",
    "    reading_comp_dot, criterion_dot = train(attention_method=\"dot_product\")\n",
    "    torch.save(reading_comp_dot, model_path_dot)\n",
    "\n",
    "# Model evaluation\n",
    "train_report, test_report = evaluate(\n",
    "    reading_comp_dot, as_doc_train, as_qn_train, train_labels, criterion_dot\n",
    "), evaluate(reading_comp_dot, as_doc_test, as_qn_test, test_labels, criterion_dot)"
   ]
  },
  {
   "cell_type": "code",
   "execution_count": 19,
   "metadata": {},
   "outputs": [
    {
     "name": "stdout",
     "output_type": "stream",
     "text": [
      "Evaluation on train set\n",
      "              precision    recall  f1-score   support\n",
      "\n",
      "           0       1.00      0.28      0.44    260691\n",
      "           1       0.03      0.92      0.05       826\n",
      "           2       0.11      0.73      0.19     19947\n",
      "           3       0.02      0.96      0.03       812\n",
      "\n",
      "    accuracy                           0.32    282276\n",
      "   macro avg       0.29      0.72      0.18    282276\n",
      "weighted avg       0.93      0.32      0.42    282276\n",
      "\n",
      "----------------------------------------------------------\n",
      "Evaluation on test set\n",
      "              precision    recall  f1-score   support\n",
      "\n",
      "           0       1.00      0.26      0.41     80177\n",
      "           1       0.02      0.84      0.04       230\n",
      "           2       0.09      0.73      0.16      5295\n",
      "           3       0.02      0.92      0.03       229\n",
      "\n",
      "    accuracy                           0.29     85931\n",
      "   macro avg       0.28      0.69      0.16     85931\n",
      "weighted avg       0.94      0.29      0.39     85931\n",
      "\n",
      "----------------------------------------------------------\n"
     ]
    }
   ],
   "source": [
    "# Model evaluation for train and test set\n",
    "print(\"Evaluation on train set\")\n",
    "print(train_report)\n",
    "print(\"----------------------------------------------------------\")\n",
    "print(\"Evaluation on test set\")\n",
    "print(test_report)\n",
    "print(\"----------------------------------------------------------\")"
   ]
  },
  {
   "attachments": {},
   "cell_type": "markdown",
   "metadata": {},
   "source": [
    "**Attention Ablation Study - Scaled Dot Product**\n"
   ]
  },
  {
   "cell_type": "code",
   "execution_count": 20,
   "metadata": {},
   "outputs": [],
   "source": [
    "# testing with scaled dot product attention\n",
    "model_path_scaled = \"./pytorch/scale_dot_product_model.pt\"\n",
    "\n",
    "if os.path.exists(model_path_scaled):\n",
    "    reading_comp_scaled = torch.load(model_path_scaled)\n",
    "    criterion_scaled = nn.CrossEntropyLoss(\n",
    "        weight=class_weights\n",
    "    )  # to account for imbalanced class weights\n",
    "else:\n",
    "    reading_comp_scaled, criterion_scaled = train(attention_method=\"scale_dot_product\")\n",
    "    torch.save(reading_comp_scaled, model_path_scaled)"
   ]
  },
  {
   "cell_type": "code",
   "execution_count": 21,
   "metadata": {},
   "outputs": [
    {
     "name": "stdout",
     "output_type": "stream",
     "text": [
      "Evaluation on train set\n",
      "              precision    recall  f1-score   support\n",
      "\n",
      "           0       0.99      0.34      0.50    260691\n",
      "           1       0.02      0.92      0.03       826\n",
      "           2       0.11      0.65      0.19     19947\n",
      "           3       0.02      0.90      0.05       812\n",
      "\n",
      "    accuracy                           0.36    282276\n",
      "   macro avg       0.29      0.70      0.19    282276\n",
      "weighted avg       0.92      0.36      0.48    282276\n",
      "\n",
      "----------------------------------------------------------\n",
      "Evaluation on test set\n",
      "              precision    recall  f1-score   support\n",
      "\n",
      "           0       0.99      0.32      0.48     80177\n",
      "           1       0.01      0.84      0.03       230\n",
      "           2       0.10      0.65      0.17      5295\n",
      "           3       0.02      0.80      0.04       229\n",
      "\n",
      "    accuracy                           0.34     85931\n",
      "   macro avg       0.28      0.65      0.18     85931\n",
      "weighted avg       0.93      0.34      0.46     85931\n",
      "\n",
      "----------------------------------------------------------\n"
     ]
    }
   ],
   "source": [
    "scaled_train_report, scaled_test_report = evaluate(\n",
    "    reading_comp_scaled, as_doc_train, as_qn_train, train_labels, criterion_scaled\n",
    "), evaluate(reading_comp_scaled, as_doc_test, as_qn_test, test_labels, criterion_scaled)\n",
    "\n",
    "# model evaluation for train and test set\n",
    "print(\"Evaluation on train set\")\n",
    "print(scaled_train_report)\n",
    "print(\"----------------------------------------------------------\")\n",
    "print(\"Evaluation on test set\")\n",
    "print(scaled_test_report)\n",
    "print(\"----------------------------------------------------------\")"
   ]
  },
  {
   "attachments": {},
   "cell_type": "markdown",
   "metadata": {},
   "source": [
    "**Attention Ablation Study - Cosine Similarity**\n"
   ]
  },
  {
   "cell_type": "code",
   "execution_count": 22,
   "metadata": {},
   "outputs": [],
   "source": [
    "# testing with cosine similarity attention\n",
    "model_path_cosine = \"./pytorch/cosine_similarity_model.pt\"\n",
    "\n",
    "if os.path.exists(model_path_cosine):\n",
    "    reading_comp_cosine = torch.load(model_path_cosine)\n",
    "    criterion_cosine = nn.CrossEntropyLoss(\n",
    "        weight=class_weights\n",
    "    )  # to account for imbalanced class weights\n",
    "else:\n",
    "    reading_comp_cosine, criterion_cosine = train(attention_method=\"cosine_similarity\")\n",
    "    torch.save(reading_comp_cosine, model_path_cosine)"
   ]
  },
  {
   "cell_type": "code",
   "execution_count": 23,
   "metadata": {},
   "outputs": [
    {
     "name": "stdout",
     "output_type": "stream",
     "text": [
      "Evaluation on train set\n",
      "              precision    recall  f1-score   support\n",
      "\n",
      "           0       0.98      0.48      0.64    260691\n",
      "           1       0.04      0.87      0.07       826\n",
      "           2       0.13      0.76      0.22     19947\n",
      "           3       0.04      0.80      0.07       812\n",
      "\n",
      "    accuracy                           0.50    282276\n",
      "   macro avg       0.30      0.72      0.25    282276\n",
      "weighted avg       0.91      0.50      0.61    282276\n",
      "\n",
      "----------------------------------------------------------\n",
      "Evaluation on test set\n",
      "              precision    recall  f1-score   support\n",
      "\n",
      "           0       0.98      0.45      0.61     80177\n",
      "           1       0.03      0.77      0.06       230\n",
      "           2       0.10      0.75      0.18      5295\n",
      "           3       0.03      0.64      0.06       229\n",
      "\n",
      "    accuracy                           0.47     85931\n",
      "   macro avg       0.29      0.65      0.23     85931\n",
      "weighted avg       0.92      0.47      0.58     85931\n",
      "\n",
      "----------------------------------------------------------\n"
     ]
    }
   ],
   "source": [
    "# model evaluation for train and test set\n",
    "cosine_train_report, cosine_test_report = evaluate(\n",
    "    reading_comp_cosine, as_doc_train, as_qn_train, train_labels, criterion_cosine\n",
    "), evaluate(reading_comp_cosine, as_doc_test, as_qn_test, test_labels, criterion_cosine)\n",
    "\n",
    "print(\"Evaluation on train set\")\n",
    "print(cosine_train_report)\n",
    "print(\"----------------------------------------------------------\")\n",
    "print(\"Evaluation on test set\")\n",
    "print(cosine_test_report)\n",
    "print(\"----------------------------------------------------------\")"
   ]
  },
  {
   "attachments": {},
   "cell_type": "markdown",
   "metadata": {},
   "source": [
    "**Attention Methods Table**\n"
   ]
  },
  {
   "cell_type": "code",
   "execution_count": 24,
   "metadata": {},
   "outputs": [
    {
     "name": "stdout",
     "output_type": "stream",
     "text": [
      "Train Data:\n",
      "Attention Method      Precision    Recall    F1-score\n",
      "------------------  -----------  --------  ----------\n",
      "dot_product            0.286895  0.722808    0.177364\n",
      "scaled_dot_product     0.285386  0.702875    0.193889\n",
      "cosine_similarity      0.295407  0.724489    0.250477\n",
      "----------------------------------------------------------\n",
      "Test Data:\n",
      "Attention Method      Precision    Recall    F1-score\n",
      "------------------  -----------  --------  ----------\n",
      "dot_product            0.281041  0.686869    0.161531\n",
      "scaled_dot_product     0.278921  0.652814    0.177574\n",
      "cosine_similarity      0.285429  0.652082    0.22768\n",
      "----------------------------------------------------------\n"
     ]
    }
   ],
   "source": [
    "from tabulate import tabulate\n",
    "\n",
    "# Model evaluation\n",
    "train_report, test_report = evaluate(\n",
    "    reading_comp_dot,\n",
    "    as_doc_train,\n",
    "    as_qn_train,\n",
    "    train_labels,\n",
    "    criterion_dot,\n",
    "    output_dict=True,\n",
    "    verbose=False,\n",
    "), evaluate(\n",
    "    reading_comp_dot,\n",
    "    as_doc_test,\n",
    "    as_qn_test,\n",
    "    test_labels,\n",
    "    criterion_dot,\n",
    "    output_dict=True,\n",
    "    verbose=False,\n",
    ")\n",
    "\n",
    "scaled_train_report, scaled_test_report = evaluate(\n",
    "    reading_comp_scaled,\n",
    "    as_doc_train,\n",
    "    as_qn_train,\n",
    "    train_labels,\n",
    "    criterion_scaled,\n",
    "    output_dict=True,\n",
    "    verbose=False,\n",
    "), evaluate(\n",
    "    reading_comp_scaled,\n",
    "    as_doc_test,\n",
    "    as_qn_test,\n",
    "    test_labels,\n",
    "    criterion_scaled,\n",
    "    output_dict=True,\n",
    "    verbose=False,\n",
    ")\n",
    "\n",
    "cosine_train_report, cosine_test_report = evaluate(\n",
    "    reading_comp_cosine,\n",
    "    as_doc_train,\n",
    "    as_qn_train,\n",
    "    train_labels,\n",
    "    criterion_cosine,\n",
    "    output_dict=True,\n",
    "    verbose=False,\n",
    "), evaluate(\n",
    "    reading_comp_cosine,\n",
    "    as_doc_test,\n",
    "    as_qn_test,\n",
    "    test_labels,\n",
    "    criterion_cosine,\n",
    "    output_dict=True,\n",
    "    verbose=False,\n",
    ")\n",
    "\n",
    "# Assuming you have already trained and evaluated models for all 3 attention methods\n",
    "# and have obtained the classification reports for each method\n",
    "reports = {\n",
    "    \"dot_product\": {\"train\": train_report, \"test\": test_report},\n",
    "    \"scaled_dot_product\": {\n",
    "        \"train\": scaled_train_report,\n",
    "        \"test\": scaled_test_report,\n",
    "    },\n",
    "    \"cosine_similarity\": {\n",
    "        \"train\": cosine_train_report,\n",
    "        \"test\": cosine_test_report,\n",
    "    },\n",
    "}\n",
    "\n",
    "# Create tables for train and test data\n",
    "for data_type in [\"train\", \"test\"]:\n",
    "    table = []\n",
    "    headers = [\"Attention Method\", \"Precision\", \"Recall\", \"F1-score\"]\n",
    "    for method, report in reports.items():\n",
    "        precision = report[data_type][\"macro avg\"][\"precision\"]\n",
    "        recall = report[data_type][\"macro avg\"][\"recall\"]\n",
    "        f1_score = report[data_type][\"macro avg\"][\"f1-score\"]\n",
    "        table.append([method, precision, recall, f1_score])\n",
    "    print(f\"{data_type.capitalize()} Data:\")\n",
    "    print(tabulate(table, headers=headers))\n",
    "    print(\"----------------------------------------------------------\")"
   ]
  },
  {
   "attachments": {},
   "cell_type": "markdown",
   "metadata": {},
   "source": [
    "### Input Embeddings Ablation Study\n",
    "\n",
    "The above model used the full context vector with all word embeddings taken (Word2Vec, POS, NER, TF-IDF). In this section, we want to study the results of:\n",
    "\n",
    "1. Word2Vec Word embeddings only\n",
    "2. Word2Vec + TF-IDF\n",
    "3. Full vector, which we have ran the results above\n"
   ]
  },
  {
   "cell_type": "code",
   "execution_count": 25,
   "metadata": {},
   "outputs": [],
   "source": [
    "# Word embeds only\n",
    "# as_doc_train, as_doc_test, as_qn_train, as_qn_test = convert_tensors(\n",
    "#     final_doc_train, final_doc_test, final_qn_train, final_qn_test, 1\n",
    "# )"
   ]
  },
  {
   "cell_type": "code",
   "execution_count": 26,
   "metadata": {},
   "outputs": [
    {
     "name": "stdout",
     "output_type": "stream",
     "text": [
      "Evaluation on train set\n",
      "{'0': {'precision': 0.9961382030319215, 'recall': 0.2790314970597374, 'f1-score': 0.4359481472158795, 'support': 260691}, '1': {'precision': 0.026803324880247958, 'recall': 0.9213075060532687, 'f1-score': 0.052091176671914576, 'support': 826}, '2': {'precision': 0.10698027868505082, 'recall': 0.7339950869804983, 'f1-score': 0.1867426851355833, 'support': 19947}, '3': {'precision': 0.017657485683119718, 'recall': 0.9568965517241379, 'f1-score': 0.034675116029989295, 'support': 812}, 'accuracy': 0.3150108404540237, 'macro avg': {'precision': 0.286894823070085, 'recall': 0.7228076604544106, 'f1-score': 0.17736428126334167, 'support': 282276}, 'weighted avg': {'precision': 0.927654768135623, 'recall': 0.3150108404540237, 'f1-score': 0.41606051627627455, 'support': 282276}}\n",
      "----------------------------------------------------------\n",
      "Evaluation on test set\n",
      "{'0': {'precision': 0.9961694996408906, 'recall': 0.25948838195492474, 'f1-score': 0.4117274544339119, 'support': 80177}, '1': {'precision': 0.02241996995261759, 'recall': 0.8434782608695652, 'f1-score': 0.04367893729595857, 'support': 230}, '2': {'precision': 0.09027208174169811, 'recall': 0.7274787535410765, 'f1-score': 0.1606137680857274, 'support': 5295}, '3': {'precision': 0.01530389156099694, 'recall': 0.9170305676855895, 'f1-score': 0.030105368790767684, 'support': 229}, 'accuracy': 0.2916409677531973, 'macro avg': {'precision': 0.28104136072405084, 'recall': 0.686868991012789, 'f1-score': 0.16153138215159138, 'support': 85931}, 'weighted avg': {'precision': 0.9351285779263194, 'recall': 0.2916409677531973, 'f1-score': 0.3942519265595983, 'support': 85931}}\n",
      "----------------------------------------------------------\n"
     ]
    }
   ],
   "source": [
    "# Model evaluation for train and test set\n",
    "print(\"Evaluation on train set\")\n",
    "print(train_report)\n",
    "print(\"----------------------------------------------------------\")\n",
    "print(\"Evaluation on test set\")\n",
    "print(test_report)\n",
    "print(\"----------------------------------------------------------\")"
   ]
  },
  {
   "attachments": {},
   "cell_type": "markdown",
   "metadata": {},
   "source": [
    "### Hyperparameter Testing\n"
   ]
  },
  {
   "attachments": {},
   "cell_type": "markdown",
   "metadata": {},
   "source": [
    "In this section, we will fine tune the hyperparameter of the model to see if we can get better results. We will be testing the following hyperparameter: learning rate.\n"
   ]
  },
  {
   "cell_type": "code",
   "execution_count": 27,
   "metadata": {},
   "outputs": [],
   "source": [
    "import optuna"
   ]
  },
  {
   "cell_type": "code",
   "execution_count": 28,
   "metadata": {},
   "outputs": [
    {
     "name": "stderr",
     "output_type": "stream",
     "text": [
      "\u001b[32m[I 2023-05-20 12:11:55,339]\u001b[0m A new study created in RDB with name: reading_comprehension\u001b[0m\n",
      "c:\\Users\\nicho\\.pyenv\\pyenv-win\\versions\\miniconda3-py310_23.1.0-1\\envs\\nlp\\lib\\site-packages\\optuna\\progress_bar.py:56: ExperimentalWarning: Progress bar is experimental (supported from v1.2.0). The interface can change in the future.\n",
      "  self._init_valid()\n"
     ]
    },
    {
     "data": {
      "application/vnd.jupyter.widget-view+json": {
       "model_id": "9af8e69768b04a128f8fa70f97b6760c",
       "version_major": 2,
       "version_minor": 0
      },
      "text/plain": [
       "  0%|          | 0/5 [00:00<?, ?it/s]"
      ]
     },
     "metadata": {},
     "output_type": "display_data"
    },
    {
     "name": "stdout",
     "output_type": "stream",
     "text": [
      "Learning rate: 0.0000, F1: 0.1604\n",
      "Learning rate: 0.0010, F1: 0.1689\n",
      "\u001b[32m[I 2023-05-20 12:18:31,534]\u001b[0m Trial 1 finished with value: 0.16040041612059333 and parameters: {'learning_rate': 1e-05}. Best is trial 1 with value: 0.16040041612059333.\u001b[0m\n",
      "\u001b[32m[I 2023-05-20 12:18:31,543]\u001b[0m Trial 0 finished with value: 0.1689123069579063 and parameters: {'learning_rate': 0.001}. Best is trial 0 with value: 0.1689123069579063.\u001b[0m\n",
      "Learning rate: 0.0001, F1: 0.1514\n",
      "\u001b[32m[I 2023-05-20 12:25:56,474]\u001b[0m Trial 3 finished with value: 0.1513732559140532 and parameters: {'learning_rate': 0.0001}. Best is trial 0 with value: 0.1689123069579063.\u001b[0m\n",
      "Learning rate: 0.1000, F1: 0.1690\n",
      "\u001b[32m[I 2023-05-20 12:25:56,607]\u001b[0m Trial 2 finished with value: 0.16895716453899068 and parameters: {'learning_rate': 0.1}. Best is trial 2 with value: 0.16895716453899068.\u001b[0m\n",
      "Learning rate: 0.0100, F1: 0.2350\n",
      "\u001b[32m[I 2023-05-20 12:30:10,543]\u001b[0m Trial 4 finished with value: 0.23498572427784348 and parameters: {'learning_rate': 0.01}. Best is trial 4 with value: 0.23498572427784348.\u001b[0m\n"
     ]
    }
   ],
   "source": [
    "from sklearn.model_selection import KFold\n",
    "\n",
    "\n",
    "mean_cv_precision_scores = []\n",
    "mean_cv_recall_scores = []\n",
    "mean_cv_f1_scores = []\n",
    "\n",
    "\n",
    "def objective(trial):\n",
    "    # Define the hyperparameters to search over\n",
    "    learning_rate = trial.suggest_float(\"learning_rate\", 1e-5, 1e-1, log=True)\n",
    "\n",
    "    # Create a KFold object for cross-validation\n",
    "    kf = KFold(n_splits=3)\n",
    "\n",
    "    # Initialize a list to store the cross-validation scores\n",
    "    cv_precision_scores = []\n",
    "    cv_recall_scores = []\n",
    "    cv_f1_scores = []\n",
    "\n",
    "    # Perform cross-validation\n",
    "    for train_index, val_index in kf.split(as_doc_train):\n",
    "        # Split the data into training and validation sets\n",
    "        doc_train, doc_val = as_doc_train[train_index], as_doc_train[val_index]\n",
    "        que_train, que_val = as_qn_train[train_index], as_qn_train[val_index]\n",
    "        label_train, label_val = train_labels[train_index], train_labels[val_index]\n",
    "\n",
    "        # Train the model on the training set\n",
    "        reading_comp_dot, criterion_dot = train(\n",
    "            doc_train,\n",
    "            que_train,\n",
    "            label_train,\n",
    "            attention_method=\"dot_product\",\n",
    "            learning_rate=learning_rate,\n",
    "            verbose=False,\n",
    "        )\n",
    "\n",
    "        # Evaluate the model on the validation set\n",
    "        val_report = evaluate(\n",
    "            reading_comp_dot,\n",
    "            doc_val,\n",
    "            que_val,\n",
    "            label_val,\n",
    "            criterion_dot,\n",
    "            output_dict=True,\n",
    "            verbose=False,\n",
    "        )\n",
    "        # Store the validation score\n",
    "        cv_precision_scores.append(val_report[\"macro avg\"][\"precision\"])\n",
    "        cv_recall_scores.append(val_report[\"macro avg\"][\"recall\"])\n",
    "        cv_f1_scores.append(val_report[\"macro avg\"][\"f1-score\"])\n",
    "    print(f\"Learning rate: {learning_rate:.4f}, F1: {np.mean(cv_f1_scores):.4f}\")\n",
    "\n",
    "    mean_cv_precision_scores.append(np.mean(cv_precision_scores))\n",
    "    mean_cv_recall_scores.append(np.mean(cv_recall_scores))\n",
    "    mean_cv_f1_scores.append(np.mean(cv_f1_scores))\n",
    "\n",
    "    # Return the average cross-validation score\n",
    "    return np.mean(cv_f1_scores)\n",
    "\n",
    "\n",
    "# Create a study object and optimize the objective function\n",
    "study_name = \"reading_comprehension\"  # Unique identifier of the study.\n",
    "storage_name = f\"sqlite:///./optuna/{study_name}.db\"\n",
    "sampler = optuna.samplers.GridSampler({\"learning_rate\": [1e-5, 1e-4, 1e-3, 1e-2, 1e-1]})\n",
    "study = optuna.create_study(\n",
    "    study_name=study_name,\n",
    "    storage=storage_name,\n",
    "    load_if_exists=True,\n",
    "    direction=\"maximize\",\n",
    "    sampler=sampler,\n",
    ")\n",
    "# Check if the study is new\n",
    "if len(study.trials) == 0:\n",
    "    # Optimize only for new study\n",
    "    study.optimize(objective, n_trials=5, n_jobs=1, show_progress_bar=True)\n",
    "else:\n",
    "    print(f\"Study {study_name} already exists in storage. Skipping optimization.\")"
   ]
  },
  {
   "cell_type": "code",
   "execution_count": 29,
   "metadata": {},
   "outputs": [
    {
     "name": "stdout",
     "output_type": "stream",
     "text": [
      "Best Score:  0.23498572427784348\n",
      "Best Params: \n",
      "  learning_rate: 0.01\n"
     ]
    }
   ],
   "source": [
    "trial = study.best_trial\n",
    "print(\"Best Score: \", trial.value)\n",
    "print(\"Best Params: \")\n",
    "for key, value in trial.params.items():\n",
    "    print(\"  {}: {}\".format(key, value))"
   ]
  },
  {
   "cell_type": "code",
   "execution_count": null,
   "metadata": {},
   "outputs": [
    {
     "name": "stdout",
     "output_type": "stream",
     "text": [
      "Requirement already satisfied: optuna-dashboard in c:\\users\\nicho\\.pyenv\\pyenv-win\\versions\\miniconda3-py310_23.1.0-1\\envs\\nlp\\lib\\site-packages (0.9.2)\n",
      "Requirement already satisfied: scikit-learn in c:\\users\\nicho\\.pyenv\\pyenv-win\\versions\\miniconda3-py310_23.1.0-1\\envs\\nlp\\lib\\site-packages (from optuna-dashboard) (1.2.2)\n",
      "Requirement already satisfied: optuna>=2.4.0 in c:\\users\\nicho\\.pyenv\\pyenv-win\\versions\\miniconda3-py310_23.1.0-1\\envs\\nlp\\lib\\site-packages (from optuna-dashboard) (3.1.1)\n",
      "Requirement already satisfied: packaging in c:\\users\\nicho\\.pyenv\\pyenv-win\\versions\\miniconda3-py310_23.1.0-1\\envs\\nlp\\lib\\site-packages (from optuna-dashboard) (22.0)\n",
      "Requirement already satisfied: bottle in c:\\users\\nicho\\.pyenv\\pyenv-win\\versions\\miniconda3-py310_23.1.0-1\\envs\\nlp\\lib\\site-packages (from optuna-dashboard) (0.12.25)\n",
      "Requirement already satisfied: sqlalchemy>=1.3.0 in c:\\users\\nicho\\.pyenv\\pyenv-win\\versions\\miniconda3-py310_23.1.0-1\\envs\\nlp\\lib\\site-packages (from optuna>=2.4.0->optuna-dashboard) (2.0.14)\n",
      "Requirement already satisfied: PyYAML in c:\\users\\nicho\\.pyenv\\pyenv-win\\versions\\miniconda3-py310_23.1.0-1\\envs\\nlp\\lib\\site-packages (from optuna>=2.4.0->optuna-dashboard) (6.0)\n",
      "Requirement already satisfied: alembic>=1.5.0 in c:\\users\\nicho\\.pyenv\\pyenv-win\\versions\\miniconda3-py310_23.1.0-1\\envs\\nlp\\lib\\site-packages (from optuna>=2.4.0->optuna-dashboard) (1.11.1)\n",
      "Requirement already satisfied: cmaes>=0.9.1 in c:\\users\\nicho\\.pyenv\\pyenv-win\\versions\\miniconda3-py310_23.1.0-1\\envs\\nlp\\lib\\site-packages (from optuna>=2.4.0->optuna-dashboard) (0.9.1)\n",
      "Requirement already satisfied: colorlog in c:\\users\\nicho\\.pyenv\\pyenv-win\\versions\\miniconda3-py310_23.1.0-1\\envs\\nlp\\lib\\site-packages (from optuna>=2.4.0->optuna-dashboard) (6.7.0)\n",
      "Requirement already satisfied: numpy in c:\\users\\nicho\\.pyenv\\pyenv-win\\versions\\miniconda3-py310_23.1.0-1\\envs\\nlp\\lib\\site-packages (from optuna>=2.4.0->optuna-dashboard) (1.23.5)\n",
      "Requirement already satisfied: tqdm in c:\\users\\nicho\\.pyenv\\pyenv-win\\versions\\miniconda3-py310_23.1.0-1\\envs\\nlp\\lib\\site-packages (from optuna>=2.4.0->optuna-dashboard) (4.65.0)\n",
      "Requirement already satisfied: joblib>=1.1.1 in c:\\users\\nicho\\.pyenv\\pyenv-win\\versions\\miniconda3-py310_23.1.0-1\\envs\\nlp\\lib\\site-packages (from scikit-learn->optuna-dashboard) (1.2.0)\n",
      "Requirement already satisfied: scipy>=1.3.2 in c:\\users\\nicho\\.pyenv\\pyenv-win\\versions\\miniconda3-py310_23.1.0-1\\envs\\nlp\\lib\\site-packages (from scikit-learn->optuna-dashboard) (1.10.0)\n",
      "Requirement already satisfied: threadpoolctl>=2.0.0 in c:\\users\\nicho\\.pyenv\\pyenv-win\\versions\\miniconda3-py310_23.1.0-1\\envs\\nlp\\lib\\site-packages (from scikit-learn->optuna-dashboard) (3.1.0)\n",
      "Requirement already satisfied: Mako in c:\\users\\nicho\\.pyenv\\pyenv-win\\versions\\miniconda3-py310_23.1.0-1\\envs\\nlp\\lib\\site-packages (from alembic>=1.5.0->optuna>=2.4.0->optuna-dashboard) (1.2.4)\n",
      "Requirement already satisfied: typing-extensions>=4 in c:\\users\\nicho\\.pyenv\\pyenv-win\\versions\\miniconda3-py310_23.1.0-1\\envs\\nlp\\lib\\site-packages (from alembic>=1.5.0->optuna>=2.4.0->optuna-dashboard) (4.4.0)\n",
      "Requirement already satisfied: greenlet!=0.4.17 in c:\\users\\nicho\\.pyenv\\pyenv-win\\versions\\miniconda3-py310_23.1.0-1\\envs\\nlp\\lib\\site-packages (from sqlalchemy>=1.3.0->optuna>=2.4.0->optuna-dashboard) (2.0.2)\n",
      "Requirement already satisfied: colorama in c:\\users\\nicho\\.pyenv\\pyenv-win\\versions\\miniconda3-py310_23.1.0-1\\envs\\nlp\\lib\\site-packages (from colorlog->optuna>=2.4.0->optuna-dashboard) (0.4.6)\n",
      "Requirement already satisfied: MarkupSafe>=0.9.2 in c:\\users\\nicho\\.pyenv\\pyenv-win\\versions\\miniconda3-py310_23.1.0-1\\envs\\nlp\\lib\\site-packages (from Mako->alembic>=1.5.0->optuna>=2.4.0->optuna-dashboard) (2.1.1)\n",
      "Note: you may need to restart the kernel to use updated packages.\n"
     ]
    },
    {
     "name": "stderr",
     "output_type": "stream",
     "text": [
      "UsageError: Line magic function `%optuna-dashboard` not found.\n"
     ]
    }
   ],
   "source": [
    "# %pip install plotly\n",
    "# %pip install optuna-dashboard\n",
    "# %optuna-dashboard sqlite:///./optuna/reading_comprehension.db"
   ]
  },
  {
   "cell_type": "code",
   "execution_count": 44,
   "metadata": {},
   "outputs": [
    {
     "name": "stdout",
     "output_type": "stream",
     "text": [
      "[0.24785685008036262, 0.2788352139518075, 0.25970569024640294, 0.27442096059563736, 0.287836665388061]\n",
      "[0.26139829001753917, 0.533443888920854, 0.3482975086559705, 0.4331511774508871, 0.643224059714509]\n",
      "[0.16040041612059333, 0.1689123069579063, 0.1513732559140532, 0.16895716453899068, 0.23498572427784348]\n"
     ]
    }
   ],
   "source": [
    "precision_scores = mean_cv_precision_scores\n",
    "recall_scores = mean_cv_recall_scores\n",
    "f1_scores = mean_cv_f1_scores\n",
    "print(precision_scores)\n",
    "print(recall_scores)\n",
    "print(f1_scores)"
   ]
  },
  {
   "cell_type": "code",
   "execution_count": 46,
   "metadata": {},
   "outputs": [
    {
     "data": {
      "image/png": "[encoded data removed]",
      "text/plain": [
       "<Figure size 1200x600 with 1 Axes>"
      ]
     },
     "metadata": {},
     "output_type": "display_data"
    }
   ],
   "source": [
    "import seaborn as sns\n",
    "%matplotlib inline\n",
    "import matplotlib.pyplot as plt\n",
    "sns.set()\n",
    "\n",
    "# Assuming you have already optimized the study and have obtained the mean cross-validation scores\n",
    "# for precision, recall, and F1-score for each learning rate\n",
    "learning_rates = [1e-5, 1e-4, 1e-3, 1e-2, 1e-1]\n",
    "# learning_rates = [1e-5, 1e-4, 1e-3, 1e-2, 1e-1]\n",
    "precision_scores = mean_cv_precision_scores\n",
    "recall_scores = mean_cv_recall_scores\n",
    "f1_scores = mean_cv_f1_scores\n",
    "\n",
    "# Create a figure with a single subplot\n",
    "fig, ax = plt.subplots(figsize=(12, 6))\n",
    "\n",
    "# Plot the precision scores\n",
    "ax.plot(learning_rates, precision_scores, label=\"Precision\")\n",
    "\n",
    "# Plot the recall scores\n",
    "ax.plot(learning_rates, recall_scores, label=\"Recall\")\n",
    "\n",
    "# Plot the F1 scores\n",
    "ax.plot(learning_rates, f1_scores, label=\"F1-score\")\n",
    "\n",
    "# Set the axis labels and title\n",
    "ax.set_xlabel(\"Learning Rate\")\n",
    "ax.set_ylabel(\"Score\")\n",
    "ax.set_xscale(\"log\")\n",
    "ax.set_title(\"Precision, Recall, and F1-score vs. Learning Rate\")\n",
    "\n",
    "# Add a legend\n",
    "ax.legend()\n",
    "\n",
    "# Show the plot\n",
    "plt.show()"
   ]
  },
  {
   "cell_type": "code",
   "execution_count": 30,
   "metadata": {},
   "outputs": [
    {
     "name": "stdout",
     "output_type": "stream",
     "text": [
      "   number     value             datetime_start          datetime_complete  \\\n",
      "0       0  0.168912 2023-05-20 12:11:55.380638 2023-05-20 12:18:31.507658   \n",
      "1       1  0.160400 2023-05-20 12:11:55.387666 2023-05-20 12:18:31.470446   \n",
      "2       2  0.168957 2023-05-20 12:18:31.580061 2023-05-20 12:25:56.577011   \n",
      "3       3  0.151373 2023-05-20 12:18:31.581034 2023-05-20 12:25:56.446041   \n",
      "4       4  0.234986 2023-05-20 12:25:56.509173 2023-05-20 12:30:10.524015   \n",
      "\n",
      "                duration  params_learning_rate  system_attrs_grid_id  \\\n",
      "0 0 days 00:06:36.127020               0.00100                     2   \n",
      "1 0 days 00:06:36.082780               0.00001                     0   \n",
      "2 0 days 00:07:24.996950               0.10000                     4   \n",
      "3 0 days 00:07:24.865007               0.00010                     1   \n",
      "4 0 days 00:04:14.014842               0.01000                     3   \n",
      "\n",
      "                           system_attrs_search_space     state  \n",
      "0  {'learning_rate': [1e-05, 0.0001, 0.001, 0.01,...  COMPLETE  \n",
      "1  {'learning_rate': [1e-05, 0.0001, 0.001, 0.01,...  COMPLETE  \n",
      "2  {'learning_rate': [1e-05, 0.0001, 0.001, 0.01,...  COMPLETE  \n",
      "3  {'learning_rate': [1e-05, 0.0001, 0.001, 0.01,...  COMPLETE  \n",
      "4  {'learning_rate': [1e-05, 0.0001, 0.001, 0.01,...  COMPLETE  \n"
     ]
    }
   ],
   "source": [
    "# Get a DataFrame containing the results of all trials\n",
    "df = study.trials_dataframe()\n",
    "\n",
    "# Display the DataFrame\n",
    "print(df)"
   ]
  },
  {
   "cell_type": "code",
   "execution_count": 31,
   "metadata": {},
   "outputs": [
    {
     "data": {
      "application/vnd.plotly.v1+json": {
       "config": {
        "plotlyServerURL": "https://plot.ly"
       },
       "data": [
        {
         "mode": "markers",
         "name": "Objective Value",
         "type": "scatter",
         "x": [
          0,
          1,
          2,
          3,
          4
         ],
         "y": [
          0.1689123069579063,
          0.16040041612059333,
          0.16895716453899068,
          0.1513732559140532,
          0.23498572427784348
         ]
        },
        {
         "name": "Best Value",
         "type": "scatter",
         "x": [
          0,
          1,
          2,
          3,
          4
         ],
         "y": [
          0.1689123069579063,
          0.1689123069579063,
          0.16895716453899068,
          0.16895716453899068,
          0.23498572427784348
         ]
        }
       ],
       "layout": {
        "template": {
         "data": {
          "bar": [
           {
            "error_x": {
             "color": "#2a3f5f"
            },
            "error_y": {
             "color": "#2a3f5f"
            },
            "marker": {
             "line": {
              "color": "#E5ECF6",
              "width": 0.5
             },
             "pattern": {
              "fillmode": "overlay",
              "size": 10,
              "solidity": 0.2
             }
            },
            "type": "bar"
           }
          ],
          "barpolar": [
           {
            "marker": {
             "line": {
              "color": "#E5ECF6",
              "width": 0.5
             },
             "pattern": {
              "fillmode": "overlay",
              "size": 10,
              "solidity": 0.2
             }
            },
            "type": "barpolar"
           }
          ],
          "carpet": [
           {
            "aaxis": {
             "endlinecolor": "#2a3f5f",
             "gridcolor": "white",
             "linecolor": "white",
             "minorgridcolor": "white",
             "startlinecolor": "#2a3f5f"
            },
            "baxis": {
             "endlinecolor": "#2a3f5f",
             "gridcolor": "white",
             "linecolor": "white",
             "minorgridcolor": "white",
             "startlinecolor": "#2a3f5f"
            },
            "type": "carpet"
           }
          ],
          "choropleth": [
           {
            "colorbar": {
             "outlinewidth": 0,
             "ticks": ""
            },
            "type": "choropleth"
           }
          ],
          "contour": [
           {
            "colorbar": {
             "outlinewidth": 0,
             "ticks": ""
            },
            "colorscale": [
             [
              0,
              "#0d0887"
             ],
             [
              0.1111111111111111,
              "#46039f"
             ],
             [
              0.2222222222222222,
              "#7201a8"
             ],
             [
              0.3333333333333333,
              "#9c179e"
             ],
             [
              0.4444444444444444,
              "#bd3786"
             ],
             [
              0.5555555555555556,
              "#d8576b"
             ],
             [
              0.6666666666666666,
              "#ed7953"
             ],
             [
              0.7777777777777778,
              "#fb9f3a"
             ],
             [
              0.8888888888888888,
              "#fdca26"
             ],
             [
              1,
              "#f0f921"
             ]
            ],
            "type": "contour"
           }
          ],
          "contourcarpet": [
           {
            "colorbar": {
             "outlinewidth": 0,
             "ticks": ""
            },
            "type": "contourcarpet"
           }
          ],
          "heatmap": [
           {
            "colorbar": {
             "outlinewidth": 0,
             "ticks": ""
            },
            "colorscale": [
             [
              0,
              "#0d0887"
             ],
             [
              0.1111111111111111,
              "#46039f"
             ],
             [
              0.2222222222222222,
              "#7201a8"
             ],
             [
              0.3333333333333333,
              "#9c179e"
             ],
             [
              0.4444444444444444,
              "#bd3786"
             ],
             [
              0.5555555555555556,
              "#d8576b"
             ],
             [
              0.6666666666666666,
              "#ed7953"
             ],
             [
              0.7777777777777778,
              "#fb9f3a"
             ],
             [
              0.8888888888888888,
              "#fdca26"
             ],
             [
              1,
              "#f0f921"
             ]
            ],
            "type": "heatmap"
           }
          ],
          "heatmapgl": [
           {
            "colorbar": {
             "outlinewidth": 0,
             "ticks": ""
            },
            "colorscale": [
             [
              0,
              "#0d0887"
             ],
             [
              0.1111111111111111,
              "#46039f"
             ],
             [
              0.2222222222222222,
              "#7201a8"
             ],
             [
              0.3333333333333333,
              "#9c179e"
             ],
             [
              0.4444444444444444,
              "#bd3786"
             ],
             [
              0.5555555555555556,
              "#d8576b"
             ],
             [
              0.6666666666666666,
              "#ed7953"
             ],
             [
              0.7777777777777778,
              "#fb9f3a"
             ],
             [
              0.8888888888888888,
              "#fdca26"
             ],
             [
              1,
              "#f0f921"
             ]
            ],
            "type": "heatmapgl"
           }
          ],
          "histogram": [
           {
            "marker": {
             "pattern": {
              "fillmode": "overlay",
              "size": 10,
              "solidity": 0.2
             }
            },
            "type": "histogram"
           }
          ],
          "histogram2d": [
           {
            "colorbar": {
             "outlinewidth": 0,
             "ticks": ""
            },
            "colorscale": [
             [
              0,
              "#0d0887"
             ],
             [
              0.1111111111111111,
              "#46039f"
             ],
             [
              0.2222222222222222,
              "#7201a8"
             ],
             [
              0.3333333333333333,
              "#9c179e"
             ],
             [
              0.4444444444444444,
              "#bd3786"
             ],
             [
              0.5555555555555556,
              "#d8576b"
             ],
             [
              0.6666666666666666,
              "#ed7953"
             ],
             [
              0.7777777777777778,
              "#fb9f3a"
             ],
             [
              0.8888888888888888,
              "#fdca26"
             ],
             [
              1,
              "#f0f921"
             ]
            ],
            "type": "histogram2d"
           }
          ],
          "histogram2dcontour": [
           {
            "colorbar": {
             "outlinewidth": 0,
             "ticks": ""
            },
            "colorscale": [
             [
              0,
              "#0d0887"
             ],
             [
              0.1111111111111111,
              "#46039f"
             ],
             [
              0.2222222222222222,
              "#7201a8"
             ],
             [
              0.3333333333333333,
              "#9c179e"
             ],
             [
              0.4444444444444444,
              "#bd3786"
             ],
             [
              0.5555555555555556,
              "#d8576b"
             ],
             [
              0.6666666666666666,
              "#ed7953"
             ],
             [
              0.7777777777777778,
              "#fb9f3a"
             ],
             [
              0.8888888888888888,
              "#fdca26"
             ],
             [
              1,
              "#f0f921"
             ]
            ],
            "type": "histogram2dcontour"
           }
          ],
          "mesh3d": [
           {
            "colorbar": {
             "outlinewidth": 0,
             "ticks": ""
            },
            "type": "mesh3d"
           }
          ],
          "parcoords": [
           {
            "line": {
             "colorbar": {
              "outlinewidth": 0,
              "ticks": ""
             }
            },
            "type": "parcoords"
           }
          ],
          "pie": [
           {
            "automargin": true,
            "type": "pie"
           }
          ],
          "scatter": [
           {
            "fillpattern": {
             "fillmode": "overlay",
             "size": 10,
             "solidity": 0.2
            },
            "type": "scatter"
           }
          ],
          "scatter3d": [
           {
            "line": {
             "colorbar": {
              "outlinewidth": 0,
              "ticks": ""
             }
            },
            "marker": {
             "colorbar": {
              "outlinewidth": 0,
              "ticks": ""
             }
            },
            "type": "scatter3d"
           }
          ],
          "scattercarpet": [
           {
            "marker": {
             "colorbar": {
              "outlinewidth": 0,
              "ticks": ""
             }
            },
            "type": "scattercarpet"
           }
          ],
          "scattergeo": [
           {
            "marker": {
             "colorbar": {
              "outlinewidth": 0,
              "ticks": ""
             }
            },
            "type": "scattergeo"
           }
          ],
          "scattergl": [
           {
            "marker": {
             "colorbar": {
              "outlinewidth": 0,
              "ticks": ""
             }
            },
            "type": "scattergl"
           }
          ],
          "scattermapbox": [
           {
            "marker": {
             "colorbar": {
              "outlinewidth": 0,
              "ticks": ""
             }
            },
            "type": "scattermapbox"
           }
          ],
          "scatterpolar": [
           {
            "marker": {
             "colorbar": {
              "outlinewidth": 0,
              "ticks": ""
             }
            },
            "type": "scatterpolar"
           }
          ],
          "scatterpolargl": [
           {
            "marker": {
             "colorbar": {
              "outlinewidth": 0,
              "ticks": ""
             }
            },
            "type": "scatterpolargl"
           }
          ],
          "scatterternary": [
           {
            "marker": {
             "colorbar": {
              "outlinewidth": 0,
              "ticks": ""
             }
            },
            "type": "scatterternary"
           }
          ],
          "surface": [
           {
            "colorbar": {
             "outlinewidth": 0,
             "ticks": ""
            },
            "colorscale": [
             [
              0,
              "#0d0887"
             ],
             [
              0.1111111111111111,
              "#46039f"
             ],
             [
              0.2222222222222222,
              "#7201a8"
             ],
             [
              0.3333333333333333,
              "#9c179e"
             ],
             [
              0.4444444444444444,
              "#bd3786"
             ],
             [
              0.5555555555555556,
              "#d8576b"
             ],
             [
              0.6666666666666666,
              "#ed7953"
             ],
             [
              0.7777777777777778,
              "#fb9f3a"
             ],
             [
              0.8888888888888888,
              "#fdca26"
             ],
             [
              1,
              "#f0f921"
             ]
            ],
            "type": "surface"
           }
          ],
          "table": [
           {
            "cells": {
             "fill": {
              "color": "#EBF0F8"
             },
             "line": {
              "color": "white"
             }
            },
            "header": {
             "fill": {
              "color": "#C8D4E3"
             },
             "line": {
              "color": "white"
             }
            },
            "type": "table"
           }
          ]
         },
         "layout": {
          "annotationdefaults": {
           "arrowcolor": "#2a3f5f",
           "arrowhead": 0,
           "arrowwidth": 1
          },
          "autotypenumbers": "strict",
          "coloraxis": {
           "colorbar": {
            "outlinewidth": 0,
            "ticks": ""
           }
          },
          "colorscale": {
           "diverging": [
            [
             0,
             "#8e0152"
            ],
            [
             0.1,
             "#c51b7d"
            ],
            [
             0.2,
             "#de77ae"
            ],
            [
             0.3,
             "#f1b6da"
            ],
            [
             0.4,
             "#fde0ef"
            ],
            [
             0.5,
             "#f7f7f7"
            ],
            [
             0.6,
             "#e6f5d0"
            ],
            [
             0.7,
             "#b8e186"
            ],
            [
             0.8,
             "#7fbc41"
            ],
            [
             0.9,
             "#4d9221"
            ],
            [
             1,
             "#276419"
            ]
           ],
           "sequential": [
            [
             0,
             "#0d0887"
            ],
            [
             0.1111111111111111,
             "#46039f"
            ],
            [
             0.2222222222222222,
             "#7201a8"
            ],
            [
             0.3333333333333333,
             "#9c179e"
            ],
            [
             0.4444444444444444,
             "#bd3786"
            ],
            [
             0.5555555555555556,
             "#d8576b"
            ],
            [
             0.6666666666666666,
             "#ed7953"
            ],
            [
             0.7777777777777778,
             "#fb9f3a"
            ],
            [
             0.8888888888888888,
             "#fdca26"
            ],
            [
             1,
             "#f0f921"
            ]
           ],
           "sequentialminus": [
            [
             0,
             "#0d0887"
            ],
            [
             0.1111111111111111,
             "#46039f"
            ],
            [
             0.2222222222222222,
             "#7201a8"
            ],
            [
             0.3333333333333333,
             "#9c179e"
            ],
            [
             0.4444444444444444,
             "#bd3786"
            ],
            [
             0.5555555555555556,
             "#d8576b"
            ],
            [
             0.6666666666666666,
             "#ed7953"
            ],
            [
             0.7777777777777778,
             "#fb9f3a"
            ],
            [
             0.8888888888888888,
             "#fdca26"
            ],
            [
             1,
             "#f0f921"
            ]
           ]
          },
          "colorway": [
           "#636efa",
           "#EF553B",
           "#00cc96",
           "#ab63fa",
           "#FFA15A",
           "#19d3f3",
           "#FF6692",
           "#B6E880",
           "#FF97FF",
           "#FECB52"
          ],
          "font": {
           "color": "#2a3f5f"
          },
          "geo": {
           "bgcolor": "white",
           "lakecolor": "white",
           "landcolor": "#E5ECF6",
           "showlakes": true,
           "showland": true,
           "subunitcolor": "white"
          },
          "hoverlabel": {
           "align": "left"
          },
          "hovermode": "closest",
          "mapbox": {
           "style": "light"
          },
          "paper_bgcolor": "white",
          "plot_bgcolor": "#E5ECF6",
          "polar": {
           "angularaxis": {
            "gridcolor": "white",
            "linecolor": "white",
            "ticks": ""
           },
           "bgcolor": "#E5ECF6",
           "radialaxis": {
            "gridcolor": "white",
            "linecolor": "white",
            "ticks": ""
           }
          },
          "scene": {
           "xaxis": {
            "backgroundcolor": "#E5ECF6",
            "gridcolor": "white",
            "gridwidth": 2,
            "linecolor": "white",
            "showbackground": true,
            "ticks": "",
            "zerolinecolor": "white"
           },
           "yaxis": {
            "backgroundcolor": "#E5ECF6",
            "gridcolor": "white",
            "gridwidth": 2,
            "linecolor": "white",
            "showbackground": true,
            "ticks": "",
            "zerolinecolor": "white"
           },
           "zaxis": {
            "backgroundcolor": "#E5ECF6",
            "gridcolor": "white",
            "gridwidth": 2,
            "linecolor": "white",
            "showbackground": true,
            "ticks": "",
            "zerolinecolor": "white"
           }
          },
          "shapedefaults": {
           "line": {
            "color": "#2a3f5f"
           }
          },
          "ternary": {
           "aaxis": {
            "gridcolor": "white",
            "linecolor": "white",
            "ticks": ""
           },
           "baxis": {
            "gridcolor": "white",
            "linecolor": "white",
            "ticks": ""
           },
           "bgcolor": "#E5ECF6",
           "caxis": {
            "gridcolor": "white",
            "linecolor": "white",
            "ticks": ""
           }
          },
          "title": {
           "x": 0.05
          },
          "xaxis": {
           "automargin": true,
           "gridcolor": "white",
           "linecolor": "white",
           "ticks": "",
           "title": {
            "standoff": 15
           },
           "zerolinecolor": "white",
           "zerolinewidth": 2
          },
          "yaxis": {
           "automargin": true,
           "gridcolor": "white",
           "linecolor": "white",
           "ticks": "",
           "title": {
            "standoff": 15
           },
           "zerolinecolor": "white",
           "zerolinewidth": 2
          }
         }
        },
        "title": {
         "text": "Optimization History Plot"
        },
        "xaxis": {
         "title": {
          "text": "Trial"
         }
        },
        "yaxis": {
         "title": {
          "text": "Objective Value"
         }
        }
       }
      }
     },
     "metadata": {},
     "output_type": "display_data"
    }
   ],
   "source": [
    "optuna.visualization.plot_optimization_history(study)"
   ]
  },
  {
   "cell_type": "code",
   "execution_count": 39,
   "metadata": {},
   "outputs": [
    {
     "data": {
      "application/vnd.plotly.v1+json": {
       "config": {
        "plotlyServerURL": "https://plot.ly"
       },
       "data": [
        {
         "marker": {
          "color": [
           0,
           1,
           2,
           3,
           4
          ],
          "colorbar": {
           "title": {
            "text": "Trial"
           },
           "x": 1,
           "xpad": 40
          },
          "colorscale": [
           [
            0,
            "rgb(247,251,255)"
           ],
           [
            0.125,
            "rgb(222,235,247)"
           ],
           [
            0.25,
            "rgb(198,219,239)"
           ],
           [
            0.375,
            "rgb(158,202,225)"
           ],
           [
            0.5,
            "rgb(107,174,214)"
           ],
           [
            0.625,
            "rgb(66,146,198)"
           ],
           [
            0.75,
            "rgb(33,113,181)"
           ],
           [
            0.875,
            "rgb(8,81,156)"
           ],
           [
            1,
            "rgb(8,48,107)"
           ]
          ],
          "line": {
           "color": "Grey",
           "width": 0.5
          }
         },
         "mode": "markers",
         "showlegend": false,
         "type": "scatter",
         "x": [
          0.001,
          0.00001,
          0.1,
          0.0001,
          0.01
         ],
         "y": [
          0.1689123069579063,
          0.16040041612059333,
          0.16895716453899068,
          0.1513732559140532,
          0.23498572427784348
         ]
        }
       ],
       "layout": {
        "template": {
         "data": {
          "bar": [
           {
            "error_x": {
             "color": "#2a3f5f"
            },
            "error_y": {
             "color": "#2a3f5f"
            },
            "marker": {
             "line": {
              "color": "#E5ECF6",
              "width": 0.5
             },
             "pattern": {
              "fillmode": "overlay",
              "size": 10,
              "solidity": 0.2
             }
            },
            "type": "bar"
           }
          ],
          "barpolar": [
           {
            "marker": {
             "line": {
              "color": "#E5ECF6",
              "width": 0.5
             },
             "pattern": {
              "fillmode": "overlay",
              "size": 10,
              "solidity": 0.2
             }
            },
            "type": "barpolar"
           }
          ],
          "carpet": [
           {
            "aaxis": {
             "endlinecolor": "#2a3f5f",
             "gridcolor": "white",
             "linecolor": "white",
             "minorgridcolor": "white",
             "startlinecolor": "#2a3f5f"
            },
            "baxis": {
             "endlinecolor": "#2a3f5f",
             "gridcolor": "white",
             "linecolor": "white",
             "minorgridcolor": "white",
             "startlinecolor": "#2a3f5f"
            },
            "type": "carpet"
           }
          ],
          "choropleth": [
           {
            "colorbar": {
             "outlinewidth": 0,
             "ticks": ""
            },
            "type": "choropleth"
           }
          ],
          "contour": [
           {
            "colorbar": {
             "outlinewidth": 0,
             "ticks": ""
            },
            "colorscale": [
             [
              0,
              "#0d0887"
             ],
             [
              0.1111111111111111,
              "#46039f"
             ],
             [
              0.2222222222222222,
              "#7201a8"
             ],
             [
              0.3333333333333333,
              "#9c179e"
             ],
             [
              0.4444444444444444,
              "#bd3786"
             ],
             [
              0.5555555555555556,
              "#d8576b"
             ],
             [
              0.6666666666666666,
              "#ed7953"
             ],
             [
              0.7777777777777778,
              "#fb9f3a"
             ],
             [
              0.8888888888888888,
              "#fdca26"
             ],
             [
              1,
              "#f0f921"
             ]
            ],
            "type": "contour"
           }
          ],
          "contourcarpet": [
           {
            "colorbar": {
             "outlinewidth": 0,
             "ticks": ""
            },
            "type": "contourcarpet"
           }
          ],
          "heatmap": [
           {
            "colorbar": {
             "outlinewidth": 0,
             "ticks": ""
            },
            "colorscale": [
             [
              0,
              "#0d0887"
             ],
             [
              0.1111111111111111,
              "#46039f"
             ],
             [
              0.2222222222222222,
              "#7201a8"
             ],
             [
              0.3333333333333333,
              "#9c179e"
             ],
             [
              0.4444444444444444,
              "#bd3786"
             ],
             [
              0.5555555555555556,
              "#d8576b"
             ],
             [
              0.6666666666666666,
              "#ed7953"
             ],
             [
              0.7777777777777778,
              "#fb9f3a"
             ],
             [
              0.8888888888888888,
              "#fdca26"
             ],
             [
              1,
              "#f0f921"
             ]
            ],
            "type": "heatmap"
           }
          ],
          "heatmapgl": [
           {
            "colorbar": {
             "outlinewidth": 0,
             "ticks": ""
            },
            "colorscale": [
             [
              0,
              "#0d0887"
             ],
             [
              0.1111111111111111,
              "#46039f"
             ],
             [
              0.2222222222222222,
              "#7201a8"
             ],
             [
              0.3333333333333333,
              "#9c179e"
             ],
             [
              0.4444444444444444,
              "#bd3786"
             ],
             [
              0.5555555555555556,
              "#d8576b"
             ],
             [
              0.6666666666666666,
              "#ed7953"
             ],
             [
              0.7777777777777778,
              "#fb9f3a"
             ],
             [
              0.8888888888888888,
              "#fdca26"
             ],
             [
              1,
              "#f0f921"
             ]
            ],
            "type": "heatmapgl"
           }
          ],
          "histogram": [
           {
            "marker": {
             "pattern": {
              "fillmode": "overlay",
              "size": 10,
              "solidity": 0.2
             }
            },
            "type": "histogram"
           }
          ],
          "histogram2d": [
           {
            "colorbar": {
             "outlinewidth": 0,
             "ticks": ""
            },
            "colorscale": [
             [
              0,
              "#0d0887"
             ],
             [
              0.1111111111111111,
              "#46039f"
             ],
             [
              0.2222222222222222,
              "#7201a8"
             ],
             [
              0.3333333333333333,
              "#9c179e"
             ],
             [
              0.4444444444444444,
              "#bd3786"
             ],
             [
              0.5555555555555556,
              "#d8576b"
             ],
             [
              0.6666666666666666,
              "#ed7953"
             ],
             [
              0.7777777777777778,
              "#fb9f3a"
             ],
             [
              0.8888888888888888,
              "#fdca26"
             ],
             [
              1,
              "#f0f921"
             ]
            ],
            "type": "histogram2d"
           }
          ],
          "histogram2dcontour": [
           {
            "colorbar": {
             "outlinewidth": 0,
             "ticks": ""
            },
            "colorscale": [
             [
              0,
              "#0d0887"
             ],
             [
              0.1111111111111111,
              "#46039f"
             ],
             [
              0.2222222222222222,
              "#7201a8"
             ],
             [
              0.3333333333333333,
              "#9c179e"
             ],
             [
              0.4444444444444444,
              "#bd3786"
             ],
             [
              0.5555555555555556,
              "#d8576b"
             ],
             [
              0.6666666666666666,
              "#ed7953"
             ],
             [
              0.7777777777777778,
              "#fb9f3a"
             ],
             [
              0.8888888888888888,
              "#fdca26"
             ],
             [
              1,
              "#f0f921"
             ]
            ],
            "type": "histogram2dcontour"
           }
          ],
          "mesh3d": [
           {
            "colorbar": {
             "outlinewidth": 0,
             "ticks": ""
            },
            "type": "mesh3d"
           }
          ],
          "parcoords": [
           {
            "line": {
             "colorbar": {
              "outlinewidth": 0,
              "ticks": ""
             }
            },
            "type": "parcoords"
           }
          ],
          "pie": [
           {
            "automargin": true,
            "type": "pie"
           }
          ],
          "scatter": [
           {
            "fillpattern": {
             "fillmode": "overlay",
             "size": 10,
             "solidity": 0.2
            },
            "type": "scatter"
           }
          ],
          "scatter3d": [
           {
            "line": {
             "colorbar": {
              "outlinewidth": 0,
              "ticks": ""
             }
            },
            "marker": {
             "colorbar": {
              "outlinewidth": 0,
              "ticks": ""
             }
            },
            "type": "scatter3d"
           }
          ],
          "scattercarpet": [
           {
            "marker": {
             "colorbar": {
              "outlinewidth": 0,
              "ticks": ""
             }
            },
            "type": "scattercarpet"
           }
          ],
          "scattergeo": [
           {
            "marker": {
             "colorbar": {
              "outlinewidth": 0,
              "ticks": ""
             }
            },
            "type": "scattergeo"
           }
          ],
          "scattergl": [
           {
            "marker": {
             "colorbar": {
              "outlinewidth": 0,
              "ticks": ""
             }
            },
            "type": "scattergl"
           }
          ],
          "scattermapbox": [
           {
            "marker": {
             "colorbar": {
              "outlinewidth": 0,
              "ticks": ""
             }
            },
            "type": "scattermapbox"
           }
          ],
          "scatterpolar": [
           {
            "marker": {
             "colorbar": {
              "outlinewidth": 0,
              "ticks": ""
             }
            },
            "type": "scatterpolar"
           }
          ],
          "scatterpolargl": [
           {
            "marker": {
             "colorbar": {
              "outlinewidth": 0,
              "ticks": ""
             }
            },
            "type": "scatterpolargl"
           }
          ],
          "scatterternary": [
           {
            "marker": {
             "colorbar": {
              "outlinewidth": 0,
              "ticks": ""
             }
            },
            "type": "scatterternary"
           }
          ],
          "surface": [
           {
            "colorbar": {
             "outlinewidth": 0,
             "ticks": ""
            },
            "colorscale": [
             [
              0,
              "#0d0887"
             ],
             [
              0.1111111111111111,
              "#46039f"
             ],
             [
              0.2222222222222222,
              "#7201a8"
             ],
             [
              0.3333333333333333,
              "#9c179e"
             ],
             [
              0.4444444444444444,
              "#bd3786"
             ],
             [
              0.5555555555555556,
              "#d8576b"
             ],
             [
              0.6666666666666666,
              "#ed7953"
             ],
             [
              0.7777777777777778,
              "#fb9f3a"
             ],
             [
              0.8888888888888888,
              "#fdca26"
             ],
             [
              1,
              "#f0f921"
             ]
            ],
            "type": "surface"
           }
          ],
          "table": [
           {
            "cells": {
             "fill": {
              "color": "#EBF0F8"
             },
             "line": {
              "color": "white"
             }
            },
            "header": {
             "fill": {
              "color": "#C8D4E3"
             },
             "line": {
              "color": "white"
             }
            },
            "type": "table"
           }
          ]
         },
         "layout": {
          "annotationdefaults": {
           "arrowcolor": "#2a3f5f",
           "arrowhead": 0,
           "arrowwidth": 1
          },
          "autotypenumbers": "strict",
          "coloraxis": {
           "colorbar": {
            "outlinewidth": 0,
            "ticks": ""
           }
          },
          "colorscale": {
           "diverging": [
            [
             0,
             "#8e0152"
            ],
            [
             0.1,
             "#c51b7d"
            ],
            [
             0.2,
             "#de77ae"
            ],
            [
             0.3,
             "#f1b6da"
            ],
            [
             0.4,
             "#fde0ef"
            ],
            [
             0.5,
             "#f7f7f7"
            ],
            [
             0.6,
             "#e6f5d0"
            ],
            [
             0.7,
             "#b8e186"
            ],
            [
             0.8,
             "#7fbc41"
            ],
            [
             0.9,
             "#4d9221"
            ],
            [
             1,
             "#276419"
            ]
           ],
           "sequential": [
            [
             0,
             "#0d0887"
            ],
            [
             0.1111111111111111,
             "#46039f"
            ],
            [
             0.2222222222222222,
             "#7201a8"
            ],
            [
             0.3333333333333333,
             "#9c179e"
            ],
            [
             0.4444444444444444,
             "#bd3786"
            ],
            [
             0.5555555555555556,
             "#d8576b"
            ],
            [
             0.6666666666666666,
             "#ed7953"
            ],
            [
             0.7777777777777778,
             "#fb9f3a"
            ],
            [
             0.8888888888888888,
             "#fdca26"
            ],
            [
             1,
             "#f0f921"
            ]
           ],
           "sequentialminus": [
            [
             0,
             "#0d0887"
            ],
            [
             0.1111111111111111,
             "#46039f"
            ],
            [
             0.2222222222222222,
             "#7201a8"
            ],
            [
             0.3333333333333333,
             "#9c179e"
            ],
            [
             0.4444444444444444,
             "#bd3786"
            ],
            [
             0.5555555555555556,
             "#d8576b"
            ],
            [
             0.6666666666666666,
             "#ed7953"
            ],
            [
             0.7777777777777778,
             "#fb9f3a"
            ],
            [
             0.8888888888888888,
             "#fdca26"
            ],
            [
             1,
             "#f0f921"
            ]
           ]
          },
          "colorway": [
           "#636efa",
           "#EF553B",
           "#00cc96",
           "#ab63fa",
           "#FFA15A",
           "#19d3f3",
           "#FF6692",
           "#B6E880",
           "#FF97FF",
           "#FECB52"
          ],
          "font": {
           "color": "#2a3f5f"
          },
          "geo": {
           "bgcolor": "white",
           "lakecolor": "white",
           "landcolor": "#E5ECF6",
           "showlakes": true,
           "showland": true,
           "subunitcolor": "white"
          },
          "hoverlabel": {
           "align": "left"
          },
          "hovermode": "closest",
          "mapbox": {
           "style": "light"
          },
          "paper_bgcolor": "white",
          "plot_bgcolor": "#E5ECF6",
          "polar": {
           "angularaxis": {
            "gridcolor": "white",
            "linecolor": "white",
            "ticks": ""
           },
           "bgcolor": "#E5ECF6",
           "radialaxis": {
            "gridcolor": "white",
            "linecolor": "white",
            "ticks": ""
           }
          },
          "scene": {
           "xaxis": {
            "backgroundcolor": "#E5ECF6",
            "gridcolor": "white",
            "gridwidth": 2,
            "linecolor": "white",
            "showbackground": true,
            "ticks": "",
            "zerolinecolor": "white"
           },
           "yaxis": {
            "backgroundcolor": "#E5ECF6",
            "gridcolor": "white",
            "gridwidth": 2,
            "linecolor": "white",
            "showbackground": true,
            "ticks": "",
            "zerolinecolor": "white"
           },
           "zaxis": {
            "backgroundcolor": "#E5ECF6",
            "gridcolor": "white",
            "gridwidth": 2,
            "linecolor": "white",
            "showbackground": true,
            "ticks": "",
            "zerolinecolor": "white"
           }
          },
          "shapedefaults": {
           "line": {
            "color": "#2a3f5f"
           }
          },
          "ternary": {
           "aaxis": {
            "gridcolor": "white",
            "linecolor": "white",
            "ticks": ""
           },
           "baxis": {
            "gridcolor": "white",
            "linecolor": "white",
            "ticks": ""
           },
           "bgcolor": "#E5ECF6",
           "caxis": {
            "gridcolor": "white",
            "linecolor": "white",
            "ticks": ""
           }
          },
          "title": {
           "x": 0.05
          },
          "xaxis": {
           "automargin": true,
           "gridcolor": "white",
           "linecolor": "white",
           "ticks": "",
           "title": {
            "standoff": 15
           },
           "zerolinecolor": "white",
           "zerolinewidth": 2
          },
          "yaxis": {
           "automargin": true,
           "gridcolor": "white",
           "linecolor": "white",
           "ticks": "",
           "title": {
            "standoff": 15
           },
           "zerolinecolor": "white",
           "zerolinewidth": 2
          }
         }
        },
        "title": {
         "text": "Slice Plot"
        },
        "xaxis": {
         "title": {
          "text": "learning_rate"
         },
         "type": "log"
        },
        "yaxis": {
         "title": {
          "text": "Objective Value"
         }
        }
       }
      }
     },
     "metadata": {},
     "output_type": "display_data"
    }
   ],
   "source": [
    "fig = optuna.visualization.plot_slice(study)\n",
    "fig"
   ]
  },
  {
   "cell_type": "code",
   "execution_count": 35,
   "metadata": {},
   "outputs": [
    {
     "name": "stdout",
     "output_type": "stream",
     "text": [
      "Epoch 1/10, Loss: 1.3867\n",
      "Epoch 2/10, Loss: 1.2868\n",
      "Epoch 3/10, Loss: 1.1253\n",
      "Epoch 4/10, Loss: 0.9606\n",
      "Epoch 5/10, Loss: 0.8766\n",
      "Epoch 6/10, Loss: 1.0260\n",
      "Epoch 7/10, Loss: 0.8106\n",
      "Epoch 8/10, Loss: 0.8692\n",
      "Epoch 9/10, Loss: 0.7638\n",
      "Epoch 10/10, Loss: 0.7118\n"
     ]
    }
   ],
   "source": [
    "best_model_path_dot = \"./pytorch/best_dot_product_model.pt\"\n",
    "\n",
    "if os.path.exists(best_model_path_dot):\n",
    "    best_reading_comp_dot = torch.load(best_model_path_dot)\n",
    "    best_criterion_dot = nn.CrossEntropyLoss(\n",
    "        weight=class_weights\n",
    "    )  # to account for imbalanced class weights\n",
    "else:\n",
    "    best_reading_comp_dot, best_criterion_dot = train(\n",
    "        attention_method=\"dot_product\", learning_rate=trial.params[\"learning_rate\"]\n",
    "    )\n",
    "    torch.save(best_reading_comp_dot, best_model_path_dot)\n",
    "\n",
    "# Model evaluation\n",
    "best_train_report, best_test_report = evaluate(\n",
    "    best_reading_comp_dot, as_doc_train, as_qn_train, train_labels, best_criterion_dot\n",
    "), evaluate(\n",
    "    best_reading_comp_dot, as_doc_test, as_qn_test, test_labels, best_criterion_dot\n",
    ")"
   ]
  }
 ],
 "metadata": {
  "kernelspec": {
   "display_name": "base",
   "language": "python",
   "name": "python3"
  },
  "language_info": {
   "codemirror_mode": {
    "name": "ipython",
    "version": 3
   },
   "file_extension": ".py",
   "mimetype": "text/x-python",
   "name": "python",
   "nbconvert_exporter": "python",
   "pygments_lexer": "ipython3",
   "version": "3.10.9"
  },
  "orig_nbformat": 4
 },
 "nbformat": 4,
 "nbformat_minor": 2
}
